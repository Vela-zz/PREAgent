{
 "cells": [
  {
   "cell_type": "markdown",
   "metadata": {},
   "source": [
    "# Real Estate Data Generataion"
   ]
  },
  {
   "cell_type": "markdown",
   "metadata": {},
   "source": [
    "# 1. Data Generation Prompt Build"
   ]
  },
  {
   "cell_type": "markdown",
   "metadata": {},
   "source": [
    "From some House Match Website [House Match](https://search.housematch.com/) e.g. I collect which feature should a real estate data has.\n",
    "\n",
    "```\n",
    "4 Bedrooms 2 Bathrooms 2,018 Size sqft 9,583.2 Lot sqft\n",
    "Single Family Detached • Built in 1959 • $180/SqFt • 1 day on site\n",
    "Fabulous pool home on a large fenced lot, with four bedrooms and two bathrooms with ceramic tile floors throughout the living space and luxury vinyl in the bedrooms. Upgrades throughout include a recently updated hall bath, remodeled kitchen, and new floors; the pool was resurfaced in 2018; the roof and the electrical were updated in 2018; interior paint was updated in 2020; a new range, dishwasher, microwave, and pool pavers were installed in 2023; the exterior was repainted in 2024. Huge backyard, new vinyl fence (2023), huge pool, and plenty of entertaining areas. All bedrooms have ceiling fans. The Great Room leads to the kitchen and dining room with sliding glass doors that lead to the pool area. The seller is offering a home warranty. No HOA, No CDD, and low taxes make this a perfect home for any buyer. It is located near I-75, minutes to retail, shopping, The Grove, Krates at the Grove, Tampa Premium Outlet Mall, Medical, and access to Downtown Tampa, Orlando, and the sunny beaches.\n",
    "```\n",
    "based on this sample and my own experience, I think a House Match estate data for rental should have:\n",
    "\n",
    "- Location\n",
    "- House type (SFR, Mansion e.g., if mansion which level)\n",
    "- Square & Layout (LDK?)\n",
    "- Rental Price\n",
    "- Building info\n",
    "    -  building year\n",
    "    -  structure (wood, concrete, steel e.g.)\n",
    "- Living Related\n",
    "    - Nearest SuperMarket\n",
    "    - Nearest SubwayStation\n",
    "\n",
    "- Some Detail Descrption(All furniture, Air Conditionar e.g.)"
   ]
  },
  {
   "cell_type": "code",
   "execution_count": 1,
   "metadata": {},
   "outputs": [],
   "source": [
    "import os\n",
    "import dotenv\n",
    "\n",
    "if (envfiles:= dotenv.find_dotenv() )!=\"\":\n",
    "    dotenv.load_dotenv(envfiles)\n",
    "else:\n",
    "    print(\".env file not found! Please set OPENAPI KEY first\")"
   ]
  },
  {
   "cell_type": "markdown",
   "metadata": {},
   "source": [
    "I would divide the prompt generate into two steps, as the Location, House type, e.g. is some short text or string that represent some class, it can be seen as a features directly, but detail descrption is a more complicated documentary that merge all this information together but also provide new from other point of view.\n",
    "\n",
    "so I would first generate a dict like data that can be analysied by Pydantic Prompt, and then based on the generated basic features generated a detail description, and at last merge all these together.\n",
    "\n",
    "the prompt itself is already test on chatgpt web application and refined by prompt engineering in GPTs, as the prompt may run many times, I would not want to let it use too many tokens."
   ]
  },
  {
   "cell_type": "markdown",
   "metadata": {},
   "source": [
    "## 1. generate basic house information pipeline"
   ]
  },
  {
   "cell_type": "markdown",
   "metadata": {},
   "source": [
    "Build pydantic model first."
   ]
  },
  {
   "cell_type": "code",
   "execution_count": 35,
   "metadata": {},
   "outputs": [],
   "source": [
    "# House Attribute Model\n",
    "from langchain.output_parsers import ResponseSchema, StructuredOutputParser\n",
    "\n",
    "response_schemas = [\n",
    "    ResponseSchema(name=\"name\", description=\"the name of the house\"),\n",
    "    ResponseSchema(name=\"year\", description=\"the house built year\"),\n",
    "    ResponseSchema(name=\"location\", description=\"the location of the house, including cityname, ward name\"),\n",
    "    ResponseSchema(name=\"layout\", description=\"the layout of the house, 1LDK, 1DK, 2LDK e.g.\"),\n",
    "    ResponseSchema(name=\"price\", description=\"the rental price of the house, format should like ¥150,000/month.\"),\n",
    "    ResponseSchema(name=\"description\", description=\"\"\"other auxiliary information of the house,\n",
    "                   like is pet allowed, is somking allowed, free-wifi provided or not, has elevator or not,\n",
    "                   time and method to go to nearest subway station and the station name, time to go to nearest\n",
    "                   supermarket.\n",
    "                   \"\"\"),\n",
    "]\n"
   ]
  },
  {
   "cell_type": "code",
   "execution_count": 36,
   "metadata": {},
   "outputs": [],
   "source": [
    "from langchain.prompts import PromptTemplate\n",
    "from langchain_openai import OpenAI\n",
    "from langchain_community.chat_models import ChatOpenAI\n",
    "\n",
    "model = OpenAI(max_tokens=2048, temperature=0.9) #ChatModel seem more precise than complettion type\n",
    "\n",
    "parser = StructuredOutputParser.from_response_schemas(response_schemas)\n",
    "parser_prompt = parser.get_format_instructions()\n",
    "\n",
    "# This Prompt would not generate exact num_of_data, because ChatGPT may\n",
    "# not remember how much data he need to generate  when N is big,\n",
    "# N around 10 works fine, but when N comes to 20, it would generate\n",
    "# 6 ~ 25 data at a time.\n",
    "prompt = PromptTemplate(\n",
    "    template=\"\"\"Generate a house located in {location} for rental.\\n{format_instructions}\\n\"\"\",\n",
    "    input_variables=[\"location\"], \n",
    "    input_types={\"location\": str},\n",
    "    partial_variables={\"format_instructions\": parser.get_format_instructions()},\n",
    ")\n",
    "\n",
    "chain = prompt | model | parser"
   ]
  },
  {
   "cell_type": "code",
   "execution_count": 37,
   "metadata": {},
   "outputs": [
    {
     "data": {
      "text/plain": [
       "[{'name': 'Modern Tokyo House in Shibuya',\n",
       "  'year': '2018',\n",
       "  'location': 'Shibuya Ward, Tokyo',\n",
       "  'layout': '3LDK',\n",
       "  'price': '¥250,000/month',\n",
       "  'description': 'This modern house was built in 2018 and is located in the bustling Shibuya Ward of Tokyo. It features a spacious 3LDK layout, perfect for families or roommates. Pets and smoking are not allowed in the house. Free wifi is provided for tenants. The nearest subway station is a 5-minute walk away and the nearest supermarket can be reached in 10 minutes on foot.'},\n",
       " {'name': 'Cozy Yokohama House',\n",
       "  'year': '2015',\n",
       "  'location': 'Yokohama, Kanagawa',\n",
       "  'layout': '1LDK',\n",
       "  'price': '¥150,000/month',\n",
       "  'description': 'This modern house is located in the heart of Yokohama, a bustling city known for its beautiful parks, shopping, and cultural attractions. The house is pet-friendly and smoking is allowed on the balcony. Free wifi is provided and there is an elevator for easy access. The nearest subway station is a 5-minute walk away and connects to major areas of the city. The nearest supermarket is a 10-minute walk away. Perfect for those looking to experience all that Yokohama has to offer.'}]"
      ]
     },
     "execution_count": 37,
     "metadata": {},
     "output_type": "execute_result"
    }
   ],
   "source": [
    "# check generation sample\n",
    "# test\n",
    "output = chain.batch([{\"location\":\"tokyo\"}, {\"location\":\"yokohama\"}])\n",
    "output"
   ]
  },
  {
   "cell_type": "code",
   "execution_count": 41,
   "metadata": {},
   "outputs": [
    {
     "name": "stderr",
     "output_type": "stream",
     "text": [
      "100%|██████████| 200/200 [04:06<00:00,  1.23s/it]\n"
     ]
    }
   ],
   "source": [
    "# try 400 times, get as much data as we can\n",
    "from time import sleep\n",
    "from tqdm import tqdm\n",
    "from numpy import random\n",
    "cities = ['tokyo', 'yokohama', 'kawasaki', 'chiba', 'saitama', 'fujisawa']\n",
    "\n",
    "tried = 0\n",
    "generated_data = []\n",
    "\n",
    "with tqdm(total=200) as pbar:\n",
    "    while len(generated_data)<200:\n",
    "        tried += 1\n",
    "        try:\n",
    "            sampled_cities = random.choice(cities, 5, replace=True)\n",
    "            batch = [{\"location\":c} for c in sampled_cities]\n",
    "            output = chain.batch(batch)\n",
    "            generated_data += output\n",
    "            pbar.update(5)\n",
    "            sleep(0.1)\n",
    "        except Exception as e:\n",
    "            pass\n"
   ]
  },
  {
   "cell_type": "code",
   "execution_count": 43,
   "metadata": {},
   "outputs": [],
   "source": [
    "import json\n",
    "import pandas as pd\n",
    "df = None\n",
    "\n",
    "for house_obj in generated_data:\n",
    "    house_obj['index'] = [0]\n",
    "    row = pd.DataFrame.from_dict(house_obj)\n",
    "    if df is None:\n",
    "        df = row\n",
    "    else:\n",
    "        df = pd.concat([df, row], axis=0)\n",
    "df = df.reset_index(drop=True)\n",
    "df = df.drop(columns=[\"index\"])\n",
    "df.to_csv(\"../data/chatgpt_house_match_data.csv\", index=False)"
   ]
  },
  {
   "cell_type": "markdown",
   "metadata": {},
   "source": [
    "check data generated"
   ]
  },
  {
   "cell_type": "code",
   "execution_count": 44,
   "metadata": {},
   "outputs": [
    {
     "data": {
      "text/html": [
       "<div>\n",
       "<style scoped>\n",
       "    .dataframe tbody tr th:only-of-type {\n",
       "        vertical-align: middle;\n",
       "    }\n",
       "\n",
       "    .dataframe tbody tr th {\n",
       "        vertical-align: top;\n",
       "    }\n",
       "\n",
       "    .dataframe thead th {\n",
       "        text-align: right;\n",
       "    }\n",
       "</style>\n",
       "<table border=\"1\" class=\"dataframe\">\n",
       "  <thead>\n",
       "    <tr style=\"text-align: right;\">\n",
       "      <th></th>\n",
       "      <th>name</th>\n",
       "      <th>year</th>\n",
       "      <th>location</th>\n",
       "      <th>layout</th>\n",
       "      <th>price</th>\n",
       "      <th>description</th>\n",
       "    </tr>\n",
       "  </thead>\n",
       "  <tbody>\n",
       "    <tr>\n",
       "      <th>0</th>\n",
       "      <td>Modern and Spacious House in Kawasaki</td>\n",
       "      <td>2015</td>\n",
       "      <td>Kawasaki City, Takatsu Ward</td>\n",
       "      <td>3LDK</td>\n",
       "      <td>¥200,000/month</td>\n",
       "      <td>This beautiful house was built in 2015 and is ...</td>\n",
       "    </tr>\n",
       "    <tr>\n",
       "      <th>1</th>\n",
       "      <td>Cozy House in Fujisawa</td>\n",
       "      <td>1995</td>\n",
       "      <td>Fujisawa, Kanagawa Prefecture</td>\n",
       "      <td>2LDK</td>\n",
       "      <td>¥150,000/month</td>\n",
       "      <td>This lovely two-bedroom house is located in th...</td>\n",
       "    </tr>\n",
       "    <tr>\n",
       "      <th>2</th>\n",
       "      <td>Saitama Green House</td>\n",
       "      <td>2014</td>\n",
       "      <td>Saitama City, Omiya Ward</td>\n",
       "      <td>1LDK</td>\n",
       "      <td>¥120,000/month</td>\n",
       "      <td>This cozy house is located in the quiet reside...</td>\n",
       "    </tr>\n",
       "    <tr>\n",
       "      <th>3</th>\n",
       "      <td>Spacious Yokohama House</td>\n",
       "      <td>2010</td>\n",
       "      <td>Yokohama, Kanagawa</td>\n",
       "      <td>3LDK</td>\n",
       "      <td>¥200,000/month</td>\n",
       "      <td>This modern house is located in a quiet neighb...</td>\n",
       "    </tr>\n",
       "    <tr>\n",
       "      <th>4</th>\n",
       "      <td>Modern House in Saitama</td>\n",
       "      <td>2018</td>\n",
       "      <td>Saitama City, Omiya Ward</td>\n",
       "      <td>2LDK</td>\n",
       "      <td>¥170,000/month</td>\n",
       "      <td>This modern house is perfect for individuals o...</td>\n",
       "    </tr>\n",
       "  </tbody>\n",
       "</table>\n",
       "</div>"
      ],
      "text/plain": [
       "                                    name  year                       location  \\\n",
       "0  Modern and Spacious House in Kawasaki  2015    Kawasaki City, Takatsu Ward   \n",
       "1                 Cozy House in Fujisawa  1995  Fujisawa, Kanagawa Prefecture   \n",
       "2                    Saitama Green House  2014       Saitama City, Omiya Ward   \n",
       "3                Spacious Yokohama House  2010             Yokohama, Kanagawa   \n",
       "4                Modern House in Saitama  2018       Saitama City, Omiya Ward   \n",
       "\n",
       "  layout           price                                        description  \n",
       "0   3LDK  ¥200,000/month  This beautiful house was built in 2015 and is ...  \n",
       "1   2LDK  ¥150,000/month  This lovely two-bedroom house is located in th...  \n",
       "2   1LDK  ¥120,000/month  This cozy house is located in the quiet reside...  \n",
       "3   3LDK  ¥200,000/month  This modern house is located in a quiet neighb...  \n",
       "4   2LDK  ¥170,000/month  This modern house is perfect for individuals o...  "
      ]
     },
     "execution_count": 44,
     "metadata": {},
     "output_type": "execute_result"
    }
   ],
   "source": [
    "import pandas as pd\n",
    "\n",
    "df = pd.read_csv(\"../data/chatgpt_house_match_data.csv\")\n",
    "df.head()"
   ]
  }
 ],
 "metadata": {
  "kernelspec": {
   "display_name": ".venv",
   "language": "python",
   "name": "python3"
  },
  "language_info": {
   "codemirror_mode": {
    "name": "ipython",
    "version": 3
   },
   "file_extension": ".py",
   "mimetype": "text/x-python",
   "name": "python",
   "nbconvert_exporter": "python",
   "pygments_lexer": "ipython3",
   "version": "3.10.13"
  }
 },
 "nbformat": 4,
 "nbformat_minor": 2
}
