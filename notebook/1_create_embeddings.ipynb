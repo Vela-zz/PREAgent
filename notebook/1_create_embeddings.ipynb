{
 "cells": [
  {
   "cell_type": "markdown",
   "metadata": {},
   "source": [
    "# Create Embeddings"
   ]
  },
  {
   "cell_type": "markdown",
   "metadata": {},
   "source": [
    "create embeddings based from data generated"
   ]
  },
  {
   "cell_type": "code",
   "execution_count": 20,
   "metadata": {},
   "outputs": [
    {
     "data": {
      "text/html": [
       "<div>\n",
       "<style scoped>\n",
       "    .dataframe tbody tr th:only-of-type {\n",
       "        vertical-align: middle;\n",
       "    }\n",
       "\n",
       "    .dataframe tbody tr th {\n",
       "        vertical-align: top;\n",
       "    }\n",
       "\n",
       "    .dataframe thead th {\n",
       "        text-align: right;\n",
       "    }\n",
       "</style>\n",
       "<table border=\"1\" class=\"dataframe\">\n",
       "  <thead>\n",
       "    <tr style=\"text-align: right;\">\n",
       "      <th></th>\n",
       "      <th>name</th>\n",
       "      <th>year</th>\n",
       "      <th>location</th>\n",
       "      <th>layout</th>\n",
       "      <th>price</th>\n",
       "      <th>description</th>\n",
       "    </tr>\n",
       "  </thead>\n",
       "  <tbody>\n",
       "    <tr>\n",
       "      <th>0</th>\n",
       "      <td>Modern and Spacious House in Kawasaki</td>\n",
       "      <td>2015</td>\n",
       "      <td>Kawasaki City, Takatsu Ward</td>\n",
       "      <td>3LDK</td>\n",
       "      <td>¥200,000/month</td>\n",
       "      <td>This beautiful house was built in 2015 and is ...</td>\n",
       "    </tr>\n",
       "    <tr>\n",
       "      <th>1</th>\n",
       "      <td>Cozy House in Fujisawa</td>\n",
       "      <td>1995</td>\n",
       "      <td>Fujisawa, Kanagawa Prefecture</td>\n",
       "      <td>2LDK</td>\n",
       "      <td>¥150,000/month</td>\n",
       "      <td>This lovely two-bedroom house is located in th...</td>\n",
       "    </tr>\n",
       "    <tr>\n",
       "      <th>2</th>\n",
       "      <td>Saitama Green House</td>\n",
       "      <td>2014</td>\n",
       "      <td>Saitama City, Omiya Ward</td>\n",
       "      <td>1LDK</td>\n",
       "      <td>¥120,000/month</td>\n",
       "      <td>This cozy house is located in the quiet reside...</td>\n",
       "    </tr>\n",
       "    <tr>\n",
       "      <th>3</th>\n",
       "      <td>Spacious Yokohama House</td>\n",
       "      <td>2010</td>\n",
       "      <td>Yokohama, Kanagawa</td>\n",
       "      <td>3LDK</td>\n",
       "      <td>¥200,000/month</td>\n",
       "      <td>This modern house is located in a quiet neighb...</td>\n",
       "    </tr>\n",
       "    <tr>\n",
       "      <th>4</th>\n",
       "      <td>Modern House in Saitama</td>\n",
       "      <td>2018</td>\n",
       "      <td>Saitama City, Omiya Ward</td>\n",
       "      <td>2LDK</td>\n",
       "      <td>¥170,000/month</td>\n",
       "      <td>This modern house is perfect for individuals o...</td>\n",
       "    </tr>\n",
       "  </tbody>\n",
       "</table>\n",
       "</div>"
      ],
      "text/plain": [
       "                                    name  year                       location  \\\n",
       "0  Modern and Spacious House in Kawasaki  2015    Kawasaki City, Takatsu Ward   \n",
       "1                 Cozy House in Fujisawa  1995  Fujisawa, Kanagawa Prefecture   \n",
       "2                    Saitama Green House  2014       Saitama City, Omiya Ward   \n",
       "3                Spacious Yokohama House  2010             Yokohama, Kanagawa   \n",
       "4                Modern House in Saitama  2018       Saitama City, Omiya Ward   \n",
       "\n",
       "  layout           price                                        description  \n",
       "0   3LDK  ¥200,000/month  This beautiful house was built in 2015 and is ...  \n",
       "1   2LDK  ¥150,000/month  This lovely two-bedroom house is located in th...  \n",
       "2   1LDK  ¥120,000/month  This cozy house is located in the quiet reside...  \n",
       "3   3LDK  ¥200,000/month  This modern house is located in a quiet neighb...  \n",
       "4   2LDK  ¥170,000/month  This modern house is perfect for individuals o...  "
      ]
     },
     "execution_count": 20,
     "metadata": {},
     "output_type": "execute_result"
    }
   ],
   "source": [
    "import lancedb\n",
    "import warnings\n",
    "warnings.filterwarnings('ignore')\n",
    "import pandas as pd\n",
    "\n",
    "df = pd.read_csv(\"../data/chatgpt_house_match_data.csv\")\n",
    "df.head()"
   ]
  },
  {
   "cell_type": "code",
   "execution_count": 35,
   "metadata": {},
   "outputs": [],
   "source": [
    "import dotenv\n",
    "from typing import List\n",
    "from langchain_openai.embeddings import OpenAIEmbeddings\n",
    "dotenv.load_dotenv()\n",
    "\n",
    "model = OpenAIEmbeddings()\n",
    "\n",
    "def embed(texts: List[str]):\n",
    "    # \n",
    "    if isinstance(texts, str):\n",
    "        texts = [texts]\n",
    "    \n",
    "    result = model.embed_documents(texts)\n",
    "    return result\n",
    "\n",
    "output = embed([\"hello\", \"world\"])\n",
    "assert len(output) == 2, \"Not Prepared For Batch Processing.\"\n",
    "    "
   ]
  },
  {
   "cell_type": "code",
   "execution_count": 37,
   "metadata": {},
   "outputs": [
    {
     "name": "stderr",
     "output_type": "stream",
     "text": [
      "100%|██████████| 1/1 [00:02<00:00,  2.60s/it]\n"
     ]
    },
    {
     "data": {
      "text/html": [
       "<div>\n",
       "<style scoped>\n",
       "    .dataframe tbody tr th:only-of-type {\n",
       "        vertical-align: middle;\n",
       "    }\n",
       "\n",
       "    .dataframe tbody tr th {\n",
       "        vertical-align: top;\n",
       "    }\n",
       "\n",
       "    .dataframe thead th {\n",
       "        text-align: right;\n",
       "    }\n",
       "</style>\n",
       "<table border=\"1\" class=\"dataframe\">\n",
       "  <thead>\n",
       "    <tr style=\"text-align: right;\">\n",
       "      <th></th>\n",
       "      <th>name</th>\n",
       "      <th>year</th>\n",
       "      <th>location</th>\n",
       "      <th>layout</th>\n",
       "      <th>price</th>\n",
       "      <th>description</th>\n",
       "      <th>vector</th>\n",
       "    </tr>\n",
       "  </thead>\n",
       "  <tbody>\n",
       "    <tr>\n",
       "      <th>0</th>\n",
       "      <td>Modern and Spacious House in Kawasaki</td>\n",
       "      <td>2015</td>\n",
       "      <td>Kawasaki City, Takatsu Ward</td>\n",
       "      <td>3LDK</td>\n",
       "      <td>¥200,000/month</td>\n",
       "      <td>This beautiful house was built in 2015 and is ...</td>\n",
       "      <td>[0.0111366855, 0.020672187, -0.022481656, 0.00...</td>\n",
       "    </tr>\n",
       "  </tbody>\n",
       "</table>\n",
       "</div>"
      ],
      "text/plain": [
       "                                    name  year                     location  \\\n",
       "0  Modern and Spacious House in Kawasaki  2015  Kawasaki City, Takatsu Ward   \n",
       "\n",
       "  layout           price                                        description  \\\n",
       "0   3LDK  ¥200,000/month  This beautiful house was built in 2015 and is ...   \n",
       "\n",
       "                                              vector  \n",
       "0  [0.0111366855, 0.020672187, -0.022481656, 0.00...  "
      ]
     },
     "execution_count": 37,
     "metadata": {},
     "output_type": "execute_result"
    }
   ],
   "source": [
    "import lancedb\n",
    "from lancedb.embeddings import with_embeddings\n",
    "\n",
    "data = with_embeddings(embed, df, column=\"description\", show_progress=True)\n",
    "data.to_pandas().head(1)"
   ]
  },
  {
   "cell_type": "code",
   "execution_count": null,
   "metadata": {},
   "outputs": [],
   "source": [
    "!rm -rf ../tmp/lancedb\n",
    "\n",
    "db = lancedb.connect(\"../tmp/lancedb\")\n",
    "tbl = db.create_table(\"house_match\", data)\n"
   ]
  }
 ],
 "metadata": {
  "kernelspec": {
   "display_name": ".venv",
   "language": "python",
   "name": "python3"
  },
  "language_info": {
   "codemirror_mode": {
    "name": "ipython",
    "version": 3
   },
   "file_extension": ".py",
   "mimetype": "text/x-python",
   "name": "python",
   "nbconvert_exporter": "python",
   "pygments_lexer": "ipython3",
   "version": "3.10.13"
  }
 },
 "nbformat": 4,
 "nbformat_minor": 2
}
