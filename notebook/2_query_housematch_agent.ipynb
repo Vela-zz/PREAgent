{
 "cells": [
  {
   "cell_type": "markdown",
   "metadata": {},
   "source": [
    "# Query house matched preference"
   ]
  },
  {
   "cell_type": "markdown",
   "metadata": {},
   "source": [
    "Assumpt the user has completed several turns of chat with chatbot, and we already get the preference of user."
   ]
  },
  {
   "cell_type": "markdown",
   "metadata": {},
   "source": [
    "embedding base chain output by chagpt embeddings and retrieval related houses from lancedb.\n",
    "\n",
    "first we merge user preference into a list, then we embedding the merged list string and use it to query the lancedb and compare the house's descrption's similarity with user's preference, at last, we compose a prompt by using the user's preference and the retrievaled house list, and ask the chatGPT to rank the house based on users requirements. \n",
    "\n",
    "All this step is realized by using langchain."
   ]
  },
  {
   "cell_type": "code",
   "execution_count": 1,
   "metadata": {},
   "outputs": [
    {
     "name": "stderr",
     "output_type": "stream",
     "text": [
      "/home/zhenzhong/PREAgent/.venv/lib/python3.10/site-packages/tqdm/auto.py:21: TqdmWarning: IProgress not found. Please update jupyter and ipywidgets. See https://ipywidgets.readthedocs.io/en/stable/user_install.html\n",
      "  from .autonotebook import tqdm as notebook_tqdm\n"
     ]
    }
   ],
   "source": [
    "#\n",
    "import dotenv\n",
    "import lancedb\n",
    "from typing import List\n",
    "from langchain_core.prompts import PromptTemplate, ChatPromptTemplate\n",
    "from langchain_community.vectorstores.lancedb import LanceDB\n",
    "from langchain_openai.embeddings import OpenAIEmbeddings\n",
    "from langchain_core.runnables import RunnablePassthrough\n",
    "from langchain_core.output_parsers import NumberedListOutputParser\n",
    "dotenv.load_dotenv()\n",
    "\n",
    "# prompt \n",
    "user_preference_template = \"\"\"First, based on users requirements on budget, remove the house that not satisfied.\n",
    "then ranking the result based on its suitability to users preference. only keep the best 2.\n",
    "******\\n\n",
    "The users preference are list below:\\n{user_require_list} \\n\n",
    "******\\n\n",
    "some related house information is: {context}\\n\n",
    "******\\n\n",
    "{format_instructions}\n",
    "return result follow the format instructions and each item must be a json obect. \n",
    "In each json object, it must includes metadata of that house except vector.\n",
    "In each json object, it must includes description of that house. \n",
    "add new key named 'suitability', the range is [0-1], 1 means all requirements satisfied.\n",
    "******\\n\"\"\"\n",
    "parser = NumberedListOutputParser()\n",
    "\n",
    "def build_vector_db_query(input: List[str]):\n",
    "    require_list = \"\"\n",
    "    for idx, user_require in enumerate(input[\"input\"]):\n",
    "        require_list += \"{}. {}\\n\".format(idx+1, user_require)\n",
    "    return require_list\n",
    "\n",
    "from langchain_core.runnables import RunnableLambda\n",
    "merge_pref = RunnableLambda(build_vector_db_query)\n",
    "# retrieval\n",
    "db = lancedb.connect('../tmp/lancedb')\n",
    "table = db.open_table('house_match')\n",
    "\n",
    "embedding_model = OpenAIEmbeddings()\n",
    "\n",
    "vectorstore = LanceDB(table, embedding_model, text_key=\"description\")\n",
    "retrieval = vectorstore.as_retriever(\n",
    "    search_kwargs = {'k':4}\n",
    ")\n",
    "\n",
    "# 1.1 merge input into one string\n",
    "parse_chain = {\"input\": RunnablePassthrough()} | merge_pref\n",
    "# 1.2 retrieval related house\n",
    "rag = parse_chain | retrieval\n",
    "# build prompt\n",
    "prompt = ChatPromptTemplate.from_template(user_preference_template)\n",
    "prompt = prompt.partial(format_instructions=parser.get_format_instructions())\n",
    "\n",
    "prompt_build = {\"context\": rag, \"user_require_list\": parse_chain} | prompt\n",
    "\n",
    "# generation \n",
    "from langchain_openai.chat_models import ChatOpenAI\n",
    "\n",
    "chat_model = ChatOpenAI(temperature=0)\n",
    "\n",
    "complete_chain = prompt_build | chat_model | parser"
   ]
  },
  {
   "cell_type": "code",
   "execution_count": 6,
   "metadata": {},
   "outputs": [
    {
     "name": "stdout",
     "output_type": "stream",
     "text": [
      "=============\n",
      "{'name': 'Tokyo Terrace House', 'year': '1998', 'location': 'Tokyo, Shibuya ward', 'layout': '3LDK', 'price': '¥200,000/month', 'vector': array([ 0.00276634,  0.00476325, -0.03064654, ..., -0.01167829,\n",
      "        0.00550007, -0.0261604 ], dtype=float32), '_distance': 0.28361162543296814}\n",
      "Fully furnished rental house located in the heart of Tokyo, just a 5 minute walk to the nearest subway station. Perfect for families or roommates who want to experience the city life. Pets and smoking are not allowed. Free wifi and elevator available. 10 minutes to the nearest supermarket by foot.\n",
      "=============\n",
      "{'name': 'Cozy Yokohama House', 'year': '2015', 'location': 'Yokohama City, Naka Ward', 'layout': '1LDK', 'price': '¥150,000/month', 'vector': array([ 0.00027617,  0.01620959, -0.0084612 , ..., -0.0084216 ,\n",
      "       -0.0046101 , -0.03920398], dtype=float32), '_distance': 0.2939999997615814}\n",
      "This modern 1LDK house is perfect for couples or small families. It was built in 2015 and is located in Naka Ward, one of the most convenient and lively areas of Yokohama. The nearest subway station is a 5 minute walk away, and there is a supermarket just 10 minutes away on foot. The house is pet-friendly and has free wifi. Smoking is not allowed. There is an elevator in the building for easy access. Getting to Tokyo is a breeze with the nearby subway station. The neighborhood is also full of great restaurants, cafes, and shops. Don't miss out on this perfect rental opportunity in Yokohama!\n",
      "=============\n",
      "{'name': 'Fujisawa Cozy House', 'year': '2015', 'location': 'Fujisawa, Kanagawa', 'layout': '2LDK', 'price': '¥150,000/month', 'vector': array([ 0.01059083,  0.02513853, -0.02141672, ..., -0.01179225,\n",
      "       -0.01034271, -0.03301309], dtype=float32), '_distance': 0.2974475026130676}\n",
      "This cozy house is located in the quiet neighborhood of Fujisawa, a peaceful city in Kanagawa prefecture. It was built in 2015 and has a spacious 2LDK layout with 2 bedrooms, a living room, and a dining room. The rental price is ¥150,000 per month. Pets are allowed and smoking is only allowed on the balcony. Free wifi is provided. The nearest subway station is a 10-minute walk away and it takes 15 minutes to reach the station by bus. The nearest supermarket is a 5-minute walk away. This house is perfect for a small family or couple looking for a quiet and comfortable home in Fujisawa.\n",
      "=============\n",
      "{'name': 'Yokohama Seaside Home', 'year': '2005', 'location': 'Yokohama, Kanagawa Prefecture, Naka Ward', 'layout': '2LDK', 'price': '¥160,000/month', 'vector': array([ 0.00205436,  0.01443679, -0.00039491, ..., -0.01709654,\n",
      "       -0.00556101, -0.02547279], dtype=float32), '_distance': 0.29789820313453674}\n",
      "This beautiful 2LDK house is located in the seaside area of Yokohama, offering a peaceful and scenic living environment. Pets are allowed on the premises and there is free wifi provided. The building has an elevator, making it convenient for those with heavy luggage or mobility issues. It takes only 5 minutes to walk to the nearest subway station, Nihon-Odori, which connects to major train lines and makes it easy to travel around the city. There is also a 24-hour supermarket within a 10-minute walk from the house, making grocery shopping a breeze.\n"
     ]
    }
   ],
   "source": [
    "from langchain_core.output_parsers import StrOutputParser\n",
    "\n",
    "rag_retrievaled = rag.invoke(user_answer_example)\n",
    "\n",
    "for doc in rag_retrievaled:\n",
    "    print(\"=============\")\n",
    "    print(doc.metadata)\n",
    "    print(doc.page_content)"
   ]
  },
  {
   "cell_type": "code",
   "execution_count": 2,
   "metadata": {},
   "outputs": [],
   "source": [
    "user_answer_example = [\n",
    "    \"I can only afford no more than 150,000 yen/month\",\n",
    "    \"I want live near the sea.\",\n",
    "    \"I want to live in some place only take 20 minutes to goto Ueno.\",\n",
    "    \"I want to work into nearest subway station in 8 minutes.\",\n",
    "    \"I hate noise but want to live in downtown area.\",\n",
    "]\n",
    "output = complete_chain.invoke(user_answer_example)"
   ]
  },
  {
   "cell_type": "code",
   "execution_count": 3,
   "metadata": {},
   "outputs": [
    {
     "name": "stdout",
     "output_type": "stream",
     "text": [
      "Running on local URL:  http://127.0.0.1:7860\n",
      "\n",
      "To create a public link, set `share=True` in `launch()`.\n"
     ]
    },
    {
     "data": {
      "text/html": [
       "<div><iframe src=\"http://127.0.0.1:7860/\" width=\"100%\" height=\"500\" allow=\"autoplay; camera; microphone; clipboard-read; clipboard-write;\" frameborder=\"0\" allowfullscreen></iframe></div>"
      ],
      "text/plain": [
       "<IPython.core.display.HTML object>"
      ]
     },
     "metadata": {},
     "output_type": "display_data"
    },
    {
     "data": {
      "text/plain": []
     },
     "execution_count": 3,
     "metadata": {},
     "output_type": "execute_result"
    }
   ],
   "source": [
    "# result visualize interface\n",
    "import gradio as gr\n",
    "import json\n",
    "\n",
    "def parser_result(s):\n",
    "    try:\n",
    "        object = json.loads(s)\n",
    "        return object\n",
    "    except Exception as e:\n",
    "        return {}\n",
    "\n",
    "markdown_template = \"\"\"\n",
    "### House information\\n\n",
    "**{name}** \\n\n",
    "#### Basic Info\\n\n",
    "\\n\n",
    "Location: {location}\\t\\t\\t\\tLayout: {layout}\\n\n",
    "Price: {price}\\t\\t\\t\\tbuilt year: {year}\\n\n",
    "Description: {desc}\\n\n",
    "\\n\n",
    "\"\"\"\n",
    "with gr.Blocks() as demo:\n",
    "    for house in output:\n",
    "        with gr.Column():\n",
    "            house_meta = parser_result(house)\n",
    "            gr.Markdown(\n",
    "                markdown_template.format(\n",
    "                    name = house_meta[\"metadata\"][\"name\"],\n",
    "                    location = house_meta[\"metadata\"][\"location\"],\n",
    "                    layout = house_meta[\"metadata\"][\"layout\"], \n",
    "                    price = house_meta[\"metadata\"][\"price\"], \n",
    "                    year = house_meta[\"metadata\"][\"year\"],\n",
    "                    desc = house_meta[\"description\"], \n",
    "                )\n",
    "            )\n",
    "            gr.Label(\n",
    "                {\"suitability\": house_meta[\"suitability\"]}\n",
    "            )\n",
    "\n",
    "demo.launch()"
   ]
  },
  {
   "cell_type": "markdown",
   "metadata": {},
   "source": [
    "result example\n",
    "\n",
    "![alt text](image.png)\n",
    "\n",
    "As the user want to live\n",
    "\n",
    "    - \"I can only afford no more than 150,000 yen/month\",\n",
    "    - \"I want live near the sea.\",\n",
    "    - \"I want to live in some place only take 20 minutes to goto Ueno.\",\n",
    "    - \"I want to work into nearest subway station in 8 minutes.\",\n",
    "    - \"I hate noise but want to live in downtown area.\",\n",
    "\n",
    "we merge the user preference first, and ask rag system to find some house align with this preference,\n",
    "the LanceDB return the RAG result like\n",
    "\n",
    "===1====\n",
    "\n",
    "'name': 'Tokyo Terrace House', \n",
    "'year': '1998', \n",
    "'location': 'Tokyo, Shibuya ward', \n",
    "'layout': '3LDK',\n",
    "'price': <span style=\"color:red\">'¥200,000/month',</span>.\n",
    "\n",
    "Fully furnished rental house located in the heart of Tokyo, just a 5 minute walk to the nearest subway station. Perfect for families or roommates who want to experience the city life. Pets and smoking are not allowed. Free wifi and elevator available. 10 minutes to the nearest supermarket by foot.\n",
    "\n",
    "===2===\n",
    "\n",
    "'name': 'Cozy Yokohama House'\n",
    "'year': '2015'\n",
    "'location': 'Yokohama City, Naka Ward'\n",
    "'layout': '1LDK'\n",
    "'price':  <span style=\"color:green\">'¥150,000/month'</span>.\n",
    "\n",
    "This modern 1LDK house is perfect for couples or small families. It was built in 2015 and is located in Naka Ward, one of the most convenient and lively areas of Yokohama. <span style=\"color:green\">The nearest subway station is a 5 minute walk away</span>, and there is a supermarket just 10 minutes away on foot. The house is pet-friendly and has free wifi. Smoking is not allowed. There is an elevator in the building for easy access. Getting to Tokyo is a breeze with the nearby subway station. The neighborhood is also full of great restaurants, cafes, and shops. Don't miss out on this perfect rental opportunity in Yokohama!\n",
    "\n",
    "======3=======\n",
    "\n",
    "'name': 'Fujisawa Cozy House'\n",
    "'year': '2015'\n",
    "'location': 'Fujisawa, Kanagawa'\n",
    "'layout': '2LDK'\n",
    "'price': <span style=\"color:green\">'¥150,000/month'</span>.\n",
    "\n",
    "This cozy house is located in the quiet neighborhood of Fujisawa, a peaceful city in Kanagawa prefecture. It was built in 2015 and has a spacious 2LDK layout with 2 bedrooms, a living room, and a dining room. The rental price is ¥150,000 per month. Pets are allowed and smoking is only allowed on the balcony. Free wifi is provided. <span style=\"color:red\">The nearest subway station is a 10-minute walk away and it takes 15 minutes to reach the station by bus.</span> The nearest supermarket is a 5-minute walk away. This house is perfect for a small family or couple looking for a quiet and comfortable home in Fujisawa.\n",
    "\n",
    "=====4========\n",
    "\n",
    "'name': 'Yokohama Seaside Home',\n",
    "'year': '2005'\n",
    "'location': 'Yokohama, Kanagawa Prefecture, Naka Ward'\n",
    "'layout': '2LDK'\n",
    "'price': <span style=\"color:red\">'¥160,000/month'</span>\n",
    "This beautiful 2LDK house is located in the seaside area of Yokohama, offering a peaceful and scenic living environment. Pets are allowed on the premises and there is free wifi provided. The building has an elevator, making it convenient for those with heavy luggage or mobility issues. It takes only 5 minutes to walk to the nearest subway station, Nihon-Odori, which connects to major train lines and makes it easy to travel around the city. There is also a 24-hour supermarket within a 10-minute walk from the house, making grocery shopping a breeze.\n",
    "\n",
    "\n",
    "Then we compose a prompt by assert the rag returned context with user preference together, asking llm return the ranking ans a score of suitability. \n",
    "In the prompt, \n",
    "    1. First, I ask the llm first filter house which montly rental fee is higher than user's budget. which remove the 1 and 4.\n",
    "    2. Second, I ask the llm to evaluate user preference one by one and score the suitability of that house. that 2 is satisfied the user requirements that want to go to nearest subway station in 10 minutes, but 3 does not(it takes about 10 minutes)\n",
    "    3. At Last, I require the LLM to return the best 2 result with the suitability score.\n",
    "\n",
    "By doing this, we find the best house match the users preference"
   ]
  }
 ],
 "metadata": {
  "kernelspec": {
   "display_name": ".venv",
   "language": "python",
   "name": "python3"
  },
  "language_info": {
   "codemirror_mode": {
    "name": "ipython",
    "version": 3
   },
   "file_extension": ".py",
   "mimetype": "text/x-python",
   "name": "python",
   "nbconvert_exporter": "python",
   "pygments_lexer": "ipython3",
   "version": "3.10.13"
  }
 },
 "nbformat": 4,
 "nbformat_minor": 2
}
