{
 "cells": [
  {
   "cell_type": "markdown",
   "metadata": {},
   "source": [
    "# Query house matched preference"
   ]
  },
  {
   "cell_type": "markdown",
   "metadata": {},
   "source": [
    "Assumpt the user has completed several turns of chat with chatbot, and we already get the preference of user."
   ]
  },
  {
   "cell_type": "markdown",
   "metadata": {},
   "source": [
    "embedding base chain output by chagpt embeddings and retrieval related houses from lancedb.\n",
    "\n",
    "first we merge user preference into a list, then we embedding the merged list string and use it to query the lancedb and compare the house's descrption's similarity with users preference, at last, we compose a prompt by using the users preference and the retrievaled house list, and ask the chatGPT to rank the house based on users requirements. \n",
    "\n",
    "All this step is realized by using langchain."
   ]
  },
  {
   "cell_type": "code",
   "execution_count": 129,
   "metadata": {},
   "outputs": [
    {
     "data": {
      "text/plain": [
       "'Based on the chat history, the user has a budget of no more than 150,000 yen/month and prefers to live near the sea. They are looking for a house no bigger than 2LDK and want to be able to walk to the nearest subway station within 8 minutes. They prefer a quieter neighborhood but still want to live in a downtown area for time-saving purposes. Additionally, they would like the house to allow pets and smoking.'"
      ]
     },
     "execution_count": 129,
     "metadata": {},
     "output_type": "execute_result"
    }
   ],
   "source": [
    "# imitate a ChatBot QA\n",
    "import dotenv\n",
    "from operator import itemgetter\n",
    "\n",
    "from langchain.memory import ConversationBufferMemory\n",
    "from langchain_core.prompts import ChatPromptTemplate, MessagesPlaceholder\n",
    "from langchain_core.runnables import RunnableLambda, RunnablePassthrough\n",
    "from langchain_core.output_parsers import StrOutputParser\n",
    "from langchain_openai import ChatOpenAI\n",
    "\n",
    "dotenv.load_dotenv()\n",
    "\n",
    "questions = [   \"Can you tell me you budget range?\" \n",
    "                \"Can you tell me where do you want to live in ?\", \n",
    "                \"Which amenities would you like?\", \n",
    "                \"Which transportation options are important to you?\",\n",
    "                \"How urban do you want your neighborhood to be?\", \n",
    "                \"Do you have any other requirements?\"  \n",
    "            ]\n",
    "\n",
    "user_answer_example = [\n",
    "    \"I can only afford no more than 150,000 yen/month\",\n",
    "    \"I want live near the sea.\",\n",
    "    \"I want no bigger than 2LDK.\",\n",
    "    \"I want to walk into nearest subway station in 8 minutes.\",\n",
    "    \"I hate noise but want to live in downtown area for time saving.  Allowed pet and smoking is better.\",\n",
    "]\n",
    "\n",
    "chat_history = ConversationBufferMemory(return_messages=True)\n",
    "for llm_q, user_ans in zip(questions, user_answer_example):\n",
    "    chat_history.chat_memory.add_ai_message(llm_q)\n",
    "    chat_history.chat_memory.add_user_message(user_ans)\n",
    "\n",
    "summarize_user_pref_prompt = ChatPromptTemplate.from_messages(\n",
    "    [(\"system\", \"\"\"Based on the chat history, summarize the users preference to house.\"\"\"),\n",
    "    MessagesPlaceholder(variable_name=\"history\"),\n",
    "    (\"system\", \"the output shoule in one paragraph, keep all details, without using list.\")]\n",
    "    \n",
    ")\n",
    "\n",
    "def get_memory_message(input):\n",
    "    return chat_history.chat_memory\n",
    "\n",
    "model = ChatOpenAI(temperature=0)\n",
    "\n",
    "summarize_user_pref_chain = (\n",
    "    RunnablePassthrough.assign(\n",
    "        history=RunnableLambda(chat_history.load_memory_variables) | itemgetter(\"history\")\n",
    "    )\n",
    "    | summarize_user_pref_prompt\n",
    "    | model\n",
    "    | StrOutputParser()\n",
    ")\n",
    "\n",
    "user_pref_summarize = summarize_user_pref_chain.invoke(input={})\n",
    "user_pref_summarize"
   ]
  },
  {
   "cell_type": "code",
   "execution_count": 130,
   "metadata": {},
   "outputs": [],
   "source": [
    "#\n",
    "import dotenv\n",
    "import lancedb\n",
    "from typing import List\n",
    "from langchain_core.documents.base import Document\n",
    "from langchain_core.prompts import PromptTemplate, ChatPromptTemplate\n",
    "from langchain_community.vectorstores.lancedb import LanceDB\n",
    "from langchain_openai.embeddings import OpenAIEmbeddings\n",
    "from langchain_core.runnables import RunnablePassthrough\n",
    "from langchain_core.output_parsers import NumberedListOutputParser\n",
    "dotenv.load_dotenv()\n",
    "\n",
    "# prompt \n",
    "user_preference_template = \"\"\"Ranking the result based on its suitability to user's preference.\n",
    "******\\n\n",
    "{user_require_list} \\n\n",
    "******\\n\n",
    "some related house information is: {context}\\n\n",
    "******\\n\n",
    "{format_instructions}\n",
    "return result follow the format instructions and each item must be a json obect. \n",
    "In each json object, it must includes meta data of the house. And add a new key named 'comment',\n",
    "summarize the user's preference statisfied by the house according to the house descrption, and other point that need to be mentioned.\n",
    "in each json object, add new key named 'suitability', the range is [0-1], 1 means all requirements satisfied. \n",
    "do not use any enter char in the result.\n",
    "******\\n\n",
    "\"\"\"\n",
    "parser = NumberedListOutputParser()\n",
    "# retrieval\n",
    "db = lancedb.connect('../tmp/lancedb')\n",
    "table = db.open_table('house_match')\n",
    "\n",
    "embedding_model = OpenAIEmbeddings()\n",
    "\n",
    "vectorstore = LanceDB(table, embedding_model, text_key=\"description\")\n",
    "retrieval = vectorstore.as_retriever(\n",
    "    search_kwargs = {'k':3}\n",
    ")\n",
    "\n",
    "# 1.1 retrieval related house\n",
    "rag = RunnablePassthrough() | retrieval \n",
    "\n",
    "retrieval_history = []\n",
    "def save_rag_result_to_mem(input):\n",
    "    retrieval_history.append(input)\n",
    "    # remove vector and distance for saving tokens\n",
    "    clean_doc = []\n",
    "    for doc in input['context']:\n",
    "        meta = doc.metadata\n",
    "        meta.pop('vector')\n",
    "        meta.pop('_distance')\n",
    "        doc.metadata = meta\n",
    "        clean_doc.append(doc)\n",
    "    return input\n",
    "\n",
    "# build prompt\n",
    "prompt = ChatPromptTemplate.from_template(user_preference_template)\n",
    "prompt = prompt.partial(format_instructions=parser.get_format_instructions())\n",
    "prompt_memory = []\n",
    "def save_prompt_to_mem(input):\n",
    "    prompt_memory.append(input)\n",
    "    return input\n",
    "\n",
    "prompt_build = {\"context\": rag, \"user_require_list\": RunnablePassthrough()} | RunnableLambda(save_rag_result_to_mem) | prompt \\\n",
    "    | RunnableLambda(save_prompt_to_mem)\n",
    "\n",
    "# generation \n",
    "from langchain_openai.chat_models import ChatOpenAI\n",
    "\n",
    "chat_model = ChatOpenAI(temperature=0)\n",
    "\n",
    "complete_chain = prompt_build | chat_model"
   ]
  },
  {
   "cell_type": "code",
   "execution_count": 131,
   "metadata": {},
   "outputs": [
    {
     "name": "stdout",
     "output_type": "stream",
     "text": [
      "Tokens Used: 1286\n",
      "\tPrompt Tokens: 825\n",
      "\tCompletion Tokens: 461\n",
      "Successful Requests: 1\n",
      "Total Cost (USD): $0.0021595\n",
      "content='1. {\"metadata\": {\"name\": \"Modern House in Yokohama\", \"year\": \"2015\", \"location\": \"Yokohama City, Nishi Ward\", \"layout\": \"2LDK\", \"price\": \"¥150,000/month\"}, \"comment\": \"This modern house in Yokohama\\'s Nishi Ward meets all the user\\'s preferences. It has a 2LDK layout, allows pets and smoking, and is located near the sea. The monthly rental price is within the user\\'s budget. The nearest subway station, Nishi-Yokohama Station, is a 10-minute walk away. The house also offers free wifi and an elevator in the building.\", \"suitability\": 1}\\n\\n2. {\"metadata\": {\"name\": \"Modern Yokohama House\", \"year\": \"2017\", \"location\": \"Yokohama, Nishi Ward\", \"layout\": \"2LDK\", \"price\": \"¥150,000/month\"}, \"comment\": \"This modern house in Yokohama\\'s Nishi Ward has a 2LDK layout and is within the user\\'s budget. It allows pets but does not allow smoking. The nearest subway station, Kannai Station, is a 10-minute walk away. Free wifi and an elevator are provided in the building. Although it is not located near the sea, it is still in a downtown area.\", \"suitability\": 0.8}\\n\\n3. {\"metadata\": {\"name\": \"Cozy Home in Yokohama\", \"year\": \"1990\", \"location\": \"Yokohama City, Nishi Ward\", \"layout\": \"2LDK\", \"price\": \"¥120,000/month\"}, \"comment\": \"This cozy home in Yokohama\\'s Nishi Ward has a 2LDK layout and is below the user\\'s budget. It allows pets with an additional fee but does not allow smoking. The nearest subway station, Kannai Station, is a 10-minute walk away. Free wifi and an elevator are provided in the building. Although it is not located near the sea, it is still in a downtown area. The house has been recently renovated with new appliances and furniture.\", \"suitability\": 0.9}'\n"
     ]
    }
   ],
   "source": [
    "from langchain.callbacks import get_openai_callback\n",
    "with get_openai_callback() as cb:\n",
    "    output = complete_chain.invoke(user_pref_summarize)\n",
    "    print(cb)\n",
    "    print(output)"
   ]
  },
  {
   "cell_type": "code",
   "execution_count": 132,
   "metadata": {},
   "outputs": [
    {
     "data": {
      "text/plain": [
       "['{\"metadata\": {\"name\": \"Modern House in Yokohama\", \"year\": \"2015\", \"location\": \"Yokohama City, Nishi Ward\", \"layout\": \"2LDK\", \"price\": \"¥150,000/month\"}, \"comment\": \"This modern house in Yokohama\\'s Nishi Ward meets all the user\\'s preferences. It has a 2LDK layout, allows pets and smoking, and is located near the sea. The monthly rental price is within the user\\'s budget. The nearest subway station, Nishi-Yokohama Station, is a 10-minute walk away. The house also offers free wifi and an elevator in the building.\", \"suitability\": 1}',\n",
       " '{\"metadata\": {\"name\": \"Modern Yokohama House\", \"year\": \"2017\", \"location\": \"Yokohama, Nishi Ward\", \"layout\": \"2LDK\", \"price\": \"¥150,000/month\"}, \"comment\": \"This modern house in Yokohama\\'s Nishi Ward has a 2LDK layout and is within the user\\'s budget. It allows pets but does not allow smoking. The nearest subway station, Kannai Station, is a 10-minute walk away. Free wifi and an elevator are provided in the building. Although it is not located near the sea, it is still in a downtown area.\", \"suitability\": 0.8}',\n",
       " '{\"metadata\": {\"name\": \"Cozy Home in Yokohama\", \"year\": \"1990\", \"location\": \"Yokohama City, Nishi Ward\", \"layout\": \"2LDK\", \"price\": \"¥120,000/month\"}, \"comment\": \"This cozy home in Yokohama\\'s Nishi Ward has a 2LDK layout and is below the user\\'s budget. It allows pets with an additional fee but does not allow smoking. The nearest subway station, Kannai Station, is a 10-minute walk away. Free wifi and an elevator are provided in the building. Although it is not located near the sea, it is still in a downtown area. The house has been recently renovated with new appliances and furniture.\", \"suitability\": 0.9}']"
      ]
     },
     "execution_count": 132,
     "metadata": {},
     "output_type": "execute_result"
    }
   ],
   "source": [
    "parsed_output = parser.invoke(output.content)\n",
    "parsed_output"
   ]
  },
  {
   "cell_type": "markdown",
   "metadata": {},
   "source": [
    "you can check the final rag embeded prompt by:"
   ]
  },
  {
   "cell_type": "code",
   "execution_count": 133,
   "metadata": {},
   "outputs": [
    {
     "name": "stdout",
     "output_type": "stream",
     "text": [
      "Ranking the result based on its suitability to user's preference.\n",
      "******\n",
      "\n",
      "Based on the chat history, the user has a budget of no more than 150,000 yen/month and prefers to live near the sea. They are looking for a house no bigger than 2LDK and want to be able to walk to the nearest subway station within 8 minutes. They prefer a quieter neighborhood but still want to live in a downtown area for time-saving purposes. Additionally, they would like the house to allow pets and smoking. \n",
      "\n",
      "******\n",
      "\n",
      "some related house information is: [Document(page_content='This modern house was built in 2015 and is located in the bustling city of Yokohama, specifically in the Nishi ward. The layout of the house is 2LDK, meaning there are two bedrooms, a living room, dining room, and kitchen. The monthly rental price for this house is ¥150,000. This house is pet-friendly and smoking is allowed. Free wifi is provided for tenants. There is an elevator in the building. The nearest subway station is a 10-minute walk away and is called Nishi-Yokohama Station. The nearest supermarket is a 15-minute walk away.', metadata={'name': 'Modern House in Yokohama', 'year': '2015', 'location': 'Yokohama City, Nishi Ward', 'layout': '2LDK', 'price': '¥150,000/month'}), Document(page_content='This modern house was built in 2017 and is located in the Nishi Ward of Yokohama. It has a spacious 2LDK layout, perfect for small families or couples. The rental price is ¥150,000 per month. Pets are allowed and smoking is not permitted. Free wifi is provided and there is an elevator available in the building. It takes 10 minutes to walk to the nearest subway station, Kannai Station, and there is a nearby supermarket that can be reached in 5 minutes by foot.', metadata={'name': 'Modern Yokohama House', 'year': '2017', 'location': 'Yokohama, Nishi Ward', 'layout': '2LDK', 'price': '¥150,000/month'}), Document(page_content='This spacious and modern house is located in the vibrant city of Yokohama in the Nishi Ward. It was built in 1990 and has been recently renovated with new appliances and furniture. It features a 2LDK layout, with two bedrooms, a living room, dining room, and kitchen. The rental price is ¥120,000 per month. Pets are allowed with an additional fee and smoking is not allowed inside the house. Free wifi is provided and there is an elevator in the building. It takes only 10 minutes to walk to the nearest subway station, Kannai Station, and from there it is a short 20-minute ride to Yokohama Station, the main transportation hub. The nearest supermarket is also just a 10-minute walk away, making grocery shopping convenient and easy.', metadata={'name': 'Cozy Home in Yokohama', 'year': '1990', 'location': 'Yokohama City, Nishi Ward', 'layout': '2LDK', 'price': '¥120,000/month'})]\n",
      "\n",
      "******\n",
      "\n",
      "Your response should be a numbered list with each item on a new line. For example: \n",
      "\n",
      "1. foo\n",
      "\n",
      "2. bar\n",
      "\n",
      "3. baz\n",
      "return result follow the format instructions and each item must be a json obect. \n",
      "In each json object, it must includes meta data of the house. And add a new key named 'comment',\n",
      "summarize the user's preference statisfied by the house according to the house descrption, and other point that need to be mentioned.\n",
      "in each json object, add new key named 'suitability', the range is [0-1], 1 means all requirements satisfied. \n",
      "do not use any enter char in the result.\n",
      "******\n",
      "\n",
      "\n"
     ]
    }
   ],
   "source": [
    "print(prompt_memory[0].messages[0].content)"
   ]
  },
  {
   "cell_type": "markdown",
   "metadata": {},
   "source": [
    "check the RAG result"
   ]
  },
  {
   "cell_type": "code",
   "execution_count": 134,
   "metadata": {},
   "outputs": [
    {
     "data": {
      "text/plain": [
       "{'context': [Document(page_content='This modern house was built in 2015 and is located in the bustling city of Yokohama, specifically in the Nishi ward. The layout of the house is 2LDK, meaning there are two bedrooms, a living room, dining room, and kitchen. The monthly rental price for this house is ¥150,000. This house is pet-friendly and smoking is allowed. Free wifi is provided for tenants. There is an elevator in the building. The nearest subway station is a 10-minute walk away and is called Nishi-Yokohama Station. The nearest supermarket is a 15-minute walk away.', metadata={'name': 'Modern House in Yokohama', 'year': '2015', 'location': 'Yokohama City, Nishi Ward', 'layout': '2LDK', 'price': '¥150,000/month'}),\n",
       "  Document(page_content='This modern house was built in 2017 and is located in the Nishi Ward of Yokohama. It has a spacious 2LDK layout, perfect for small families or couples. The rental price is ¥150,000 per month. Pets are allowed and smoking is not permitted. Free wifi is provided and there is an elevator available in the building. It takes 10 minutes to walk to the nearest subway station, Kannai Station, and there is a nearby supermarket that can be reached in 5 minutes by foot.', metadata={'name': 'Modern Yokohama House', 'year': '2017', 'location': 'Yokohama, Nishi Ward', 'layout': '2LDK', 'price': '¥150,000/month'}),\n",
       "  Document(page_content='This spacious and modern house is located in the vibrant city of Yokohama in the Nishi Ward. It was built in 1990 and has been recently renovated with new appliances and furniture. It features a 2LDK layout, with two bedrooms, a living room, dining room, and kitchen. The rental price is ¥120,000 per month. Pets are allowed with an additional fee and smoking is not allowed inside the house. Free wifi is provided and there is an elevator in the building. It takes only 10 minutes to walk to the nearest subway station, Kannai Station, and from there it is a short 20-minute ride to Yokohama Station, the main transportation hub. The nearest supermarket is also just a 10-minute walk away, making grocery shopping convenient and easy.', metadata={'name': 'Cozy Home in Yokohama', 'year': '1990', 'location': 'Yokohama City, Nishi Ward', 'layout': '2LDK', 'price': '¥120,000/month'})],\n",
       " 'user_require_list': 'Based on the chat history, the user has a budget of no more than 150,000 yen/month and prefers to live near the sea. They are looking for a house no bigger than 2LDK and want to be able to walk to the nearest subway station within 8 minutes. They prefer a quieter neighborhood but still want to live in a downtown area for time-saving purposes. Additionally, they would like the house to allow pets and smoking.'}"
      ]
     },
     "execution_count": 134,
     "metadata": {},
     "output_type": "execute_result"
    }
   ],
   "source": [
    "retrieval_history[0]"
   ]
  },
  {
   "cell_type": "markdown",
   "metadata": {},
   "source": [
    "In the Rag provided suggestions, we get 3 related house resource, you can find it in the [generated_data](../data/chatgpt_house_match_data.csv)"
   ]
  },
  {
   "cell_type": "code",
   "execution_count": 135,
   "metadata": {},
   "outputs": [
    {
     "data": {
      "text/html": [
       "<div>\n",
       "<style scoped>\n",
       "    .dataframe tbody tr th:only-of-type {\n",
       "        vertical-align: middle;\n",
       "    }\n",
       "\n",
       "    .dataframe tbody tr th {\n",
       "        vertical-align: top;\n",
       "    }\n",
       "\n",
       "    .dataframe thead th {\n",
       "        text-align: right;\n",
       "    }\n",
       "</style>\n",
       "<table border=\"1\" class=\"dataframe\">\n",
       "  <thead>\n",
       "    <tr style=\"text-align: right;\">\n",
       "      <th></th>\n",
       "      <th>name</th>\n",
       "      <th>year</th>\n",
       "      <th>location</th>\n",
       "      <th>layout</th>\n",
       "      <th>price</th>\n",
       "      <th>description</th>\n",
       "      <th>vector</th>\n",
       "    </tr>\n",
       "  </thead>\n",
       "  <tbody>\n",
       "    <tr>\n",
       "      <th>0</th>\n",
       "      <td>Modern House in Yokohama</td>\n",
       "      <td>2015</td>\n",
       "      <td>Yokohama City, Nishi Ward</td>\n",
       "      <td>2LDK</td>\n",
       "      <td>¥150,000/month</td>\n",
       "      <td>This modern house was built in 2015 and is loc...</td>\n",
       "      <td>[-0.002760687, 0.017305313, -0.017213888, -0.0...</td>\n",
       "    </tr>\n",
       "  </tbody>\n",
       "</table>\n",
       "</div>"
      ],
      "text/plain": [
       "                       name  year                   location layout  \\\n",
       "0  Modern House in Yokohama  2015  Yokohama City, Nishi Ward   2LDK   \n",
       "\n",
       "            price                                        description  \\\n",
       "0  ¥150,000/month  This modern house was built in 2015 and is loc...   \n",
       "\n",
       "                                              vector  \n",
       "0  [-0.002760687, 0.017305313, -0.017213888, -0.0...  "
      ]
     },
     "metadata": {},
     "output_type": "display_data"
    },
    {
     "data": {
      "text/html": [
       "<div>\n",
       "<style scoped>\n",
       "    .dataframe tbody tr th:only-of-type {\n",
       "        vertical-align: middle;\n",
       "    }\n",
       "\n",
       "    .dataframe tbody tr th {\n",
       "        vertical-align: top;\n",
       "    }\n",
       "\n",
       "    .dataframe thead th {\n",
       "        text-align: right;\n",
       "    }\n",
       "</style>\n",
       "<table border=\"1\" class=\"dataframe\">\n",
       "  <thead>\n",
       "    <tr style=\"text-align: right;\">\n",
       "      <th></th>\n",
       "      <th>name</th>\n",
       "      <th>year</th>\n",
       "      <th>location</th>\n",
       "      <th>layout</th>\n",
       "      <th>price</th>\n",
       "      <th>description</th>\n",
       "      <th>vector</th>\n",
       "    </tr>\n",
       "  </thead>\n",
       "  <tbody>\n",
       "    <tr>\n",
       "      <th>0</th>\n",
       "      <td>Modern Yokohama House</td>\n",
       "      <td>2017</td>\n",
       "      <td>Yokohama, Nishi Ward</td>\n",
       "      <td>2LDK</td>\n",
       "      <td>¥150,000/month</td>\n",
       "      <td>This modern house was built in 2017 and is loc...</td>\n",
       "      <td>[0.001239832, 0.01881396, -0.02227762, -0.0066...</td>\n",
       "    </tr>\n",
       "  </tbody>\n",
       "</table>\n",
       "</div>"
      ],
      "text/plain": [
       "                    name  year              location layout           price  \\\n",
       "0  Modern Yokohama House  2017  Yokohama, Nishi Ward   2LDK  ¥150,000/month   \n",
       "\n",
       "                                         description  \\\n",
       "0  This modern house was built in 2017 and is loc...   \n",
       "\n",
       "                                              vector  \n",
       "0  [0.001239832, 0.01881396, -0.02227762, -0.0066...  "
      ]
     },
     "metadata": {},
     "output_type": "display_data"
    },
    {
     "data": {
      "text/html": [
       "<div>\n",
       "<style scoped>\n",
       "    .dataframe tbody tr th:only-of-type {\n",
       "        vertical-align: middle;\n",
       "    }\n",
       "\n",
       "    .dataframe tbody tr th {\n",
       "        vertical-align: top;\n",
       "    }\n",
       "\n",
       "    .dataframe thead th {\n",
       "        text-align: right;\n",
       "    }\n",
       "</style>\n",
       "<table border=\"1\" class=\"dataframe\">\n",
       "  <thead>\n",
       "    <tr style=\"text-align: right;\">\n",
       "      <th></th>\n",
       "      <th>name</th>\n",
       "      <th>year</th>\n",
       "      <th>location</th>\n",
       "      <th>layout</th>\n",
       "      <th>price</th>\n",
       "      <th>description</th>\n",
       "      <th>vector</th>\n",
       "    </tr>\n",
       "  </thead>\n",
       "  <tbody>\n",
       "    <tr>\n",
       "      <th>0</th>\n",
       "      <td>Cozy Home in Yokohama</td>\n",
       "      <td>1990</td>\n",
       "      <td>Yokohama City, Nishi Ward</td>\n",
       "      <td>2LDK</td>\n",
       "      <td>¥120,000/month</td>\n",
       "      <td>This spacious and modern house is located in t...</td>\n",
       "      <td>[0.0033749407, 0.018073954, -0.013630829, -0.0...</td>\n",
       "    </tr>\n",
       "  </tbody>\n",
       "</table>\n",
       "</div>"
      ],
      "text/plain": [
       "                    name  year                   location layout  \\\n",
       "0  Cozy Home in Yokohama  1990  Yokohama City, Nishi Ward   2LDK   \n",
       "\n",
       "            price                                        description  \\\n",
       "0  ¥120,000/month  This spacious and modern house is located in t...   \n",
       "\n",
       "                                              vector  \n",
       "0  [0.0033749407, 0.018073954, -0.013630829, -0.0...  "
      ]
     },
     "metadata": {},
     "output_type": "display_data"
    }
   ],
   "source": [
    "from typing import Dict, Any\n",
    "\n",
    "def query_db_with_meta(meta:Dict[str, Any]):\n",
    "    USED_META_KEY = ['name', 'year', 'layout', 'location', 'price']\n",
    "    meta_copy = meta.copy()\n",
    "    for k, _ in meta.items():\n",
    "        if k not in USED_META_KEY:\n",
    "            meta_copy.pop(k)\n",
    "\n",
    "    query = ' AND '.join([f\"{k} = '{v}'\" for k, v in meta_copy.items()])\n",
    "    ans = table.search().\\\n",
    "        where(query).to_pandas()\n",
    "    return ans\n",
    "\n",
    "for housemeta in retrieval_history[0]['context']:\n",
    "    display(query_db_with_meta(housemeta.metadata.copy()))"
   ]
  },
  {
   "cell_type": "code",
   "execution_count": 136,
   "metadata": {},
   "outputs": [
    {
     "name": "stdout",
     "output_type": "stream",
     "text": [
      "Running on local URL:  http://127.0.0.1:7865\n",
      "\n",
      "To create a public link, set `share=True` in `launch()`.\n"
     ]
    },
    {
     "data": {
      "text/html": [
       "<div><iframe src=\"http://127.0.0.1:7865/\" width=\"100%\" height=\"500\" allow=\"autoplay; camera; microphone; clipboard-read; clipboard-write;\" frameborder=\"0\" allowfullscreen></iframe></div>"
      ],
      "text/plain": [
       "<IPython.core.display.HTML object>"
      ]
     },
     "metadata": {},
     "output_type": "display_data"
    },
    {
     "data": {
      "text/plain": []
     },
     "execution_count": 136,
     "metadata": {},
     "output_type": "execute_result"
    }
   ],
   "source": [
    "# result visualize interface\n",
    "import gradio as gr\n",
    "import json\n",
    "\n",
    "def parser_result(s):\n",
    "    try:\n",
    "        object = json.loads(s)\n",
    "        return object\n",
    "    except Exception as e:\n",
    "        return {}\n",
    "\n",
    "parsed_output_json = [parser_result(house) for house in parsed_output]\n",
    "parsed_output_json.sort(key=lambda x: float(x['suitability']), reverse=True)\n",
    "\n",
    "markdown_template = \"\"\"\n",
    "### House information\\n\n",
    "**{name}** \\n\n",
    "#### Basic Info\\n\n",
    "\\n\n",
    "Location: {location}\\t\\t\\t\\tLayout: {layout}\\n\n",
    "Price: {price}\\t\\t\\t\\tbuilt year: {year}\\n\n",
    "Desc: {desc}\\n\n",
    "System Comment: {comment}\\n\n",
    "\\n\n",
    "\"\"\"\n",
    "with gr.Blocks() as demo:\n",
    "    for house_info in parsed_output_json:\n",
    "        with gr.Column():\n",
    "            house_meta = house_info['metadata']\n",
    "            house_desc = query_db_with_meta(house_meta.copy()).description.values[0],\n",
    "            gr.Markdown(\n",
    "                markdown_template.format(\n",
    "                    name = house_meta[\"name\"],\n",
    "                    location = house_meta[\"location\"],\n",
    "                    layout = house_meta[\"layout\"], \n",
    "                    price = house_meta[\"price\"], \n",
    "                    year = house_meta[\"year\"],\n",
    "                    desc = house_desc,\n",
    "                    comment = house_info[\"comment\"], \n",
    "                )\n",
    "            )\n",
    "            gr.Label(\n",
    "                {\"suitability\": house_info[\"suitability\"]}\n",
    "            )\n",
    "\n",
    "demo.launch()"
   ]
  },
  {
   "cell_type": "markdown",
   "metadata": {},
   "source": [
    "result example\n",
    "\n",
    "As the user want to live\n",
    "\n",
    "    - I can only afford no more than 150,000 yen/month\n",
    "    - I want live near the sea.\n",
    "    - I want no bigger than 2LDK.\n",
    "    - I want to walk into nearest subway station in 8 minutes.\n",
    "    - I hate noise but want to live in downtown area for time saving.  Allowed pet and smoking is better.\n",
    "\n",
    "we merge the user preference first, and ask rag system to find some house align with this preference,\n",
    "the LanceDB return the RAG result like\n",
    "\n",
    "```\n",
    "=============\n",
    "Line(201) in CSV file\n",
    "1.\n",
    "'This modern house was built in 2017 and is located in the Nishi Ward of Yokohama. It has a spacious 2LDK layout, perfect for small families or couples. The rental price is ¥150,000 per month. Pets are allowed and smoking is not permitted. Free wifi is provided and there is an elevator available in the building. It takes 10 minutes to walk to the nearest subway station, Kannai Station, and there is a nearby supermarket that can be reached in 5 minutes by foot.', 'name': 'Modern Yokohama House', 'year': '2017', 'location': 'Yokohama, Nishi Ward', 'layout': '2LDK', 'price': '¥150,000/month'\n",
    "=============\n",
    "Line (190) in CSV file\n",
    "2. \n",
    "'This modern house was built in 2015 and is located in the bustling city of Chiba. It features a spacious 1LDK layout, perfect for individuals or couples. The rental price is ¥120,000 per month and includes free wifi. Pets and smoking are not allowed. There is an elevator in the building and it takes 10 minutes to walk to the nearest subway station, Chiba Station. It also only takes 5 minutes to walk to the nearest supermarket, making grocery shopping quick and convenient.', 'name': 'Cozy Chiba House', 'year': '2015', 'location': 'Chiba City, Chuo Ward', 'layout': '1LDK', 'price': '¥120,000/month'\n",
    "=============\n",
    "Line (35) in CSV file\n",
    "3.\n",
    "'This modern house was built in 2015 and is located in the bustling city of Yokohama, specifically in the Nishi ward. The layout of the house is 2LDK, meaning there are two bedrooms, a living room, dining room, and kitchen. The monthly rental price for this house is ¥150,000. This house is pet-friendly and smoking is allowed. Free wifi is provided for tenants. There is an elevator in the building. The nearest subway station is a 10-minute walk away and is called Nishi-Yokohama Station. The nearest supermarket is a 15-minute walk away.', 'name': 'Modern House in Yokohama', 'year': '2015', 'location': 'Yokohama City, Nishi Ward', 'layout': '2LDK', 'price': '¥150,000/month'\n",
    "Then we compose a prompt by assert the rag returned context with user preference together, asking llm return the ranking ans a score of suitability.\n",
    "```\n",
    "\n",
    "In the prompt,\n",
    " \n",
    "    1. First, I ask the llm first filter house which montly rental fee is higher than user's budget. which remove the 1 and 4.\n",
    "    2. Second, I ask the llm to evaluate user preference one by one and score the suitability of that house. then add details comment\n",
    "    to explain which point is statisfied, and which is not.\n",
    "    3. At Last, I require the LLM to return the best 2 result with the suitability score.\n",
    "\n",
    "By doing this, we find the best house match the users preference\n",
    "\n",
    "![alt text](image-3.png)\n",
    "![alt text](image-1.png)\n",
    "![alt text](image-2.png)"
   ]
  }
 ],
 "metadata": {
  "kernelspec": {
   "display_name": ".venv",
   "language": "python",
   "name": "python3"
  },
  "language_info": {
   "codemirror_mode": {
    "name": "ipython",
    "version": 3
   },
   "file_extension": ".py",
   "mimetype": "text/x-python",
   "name": "python",
   "nbconvert_exporter": "python",
   "pygments_lexer": "ipython3",
   "version": "3.10.13"
  }
 },
 "nbformat": 4,
 "nbformat_minor": 2
}
