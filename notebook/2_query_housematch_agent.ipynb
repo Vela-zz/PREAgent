{
 "cells": [
  {
   "cell_type": "markdown",
   "metadata": {},
   "source": [
    "# Query house matched preference"
   ]
  },
  {
   "cell_type": "markdown",
   "metadata": {},
   "source": [
    "Assumpt the user has completed several turns of chat with chatbot, and we already get the preference of user."
   ]
  },
  {
   "cell_type": "markdown",
   "metadata": {},
   "source": [
    "embedding base chain output by chagpt embeddings and retrieval related houses from lancedb.\n",
    "\n",
    "first we merge user preference into a list, then we embedding the merged list string and use it to query the lancedb and compare the house's descrption's similarity with user's preference, at last, we compose a prompt by using the user's preference and the retrievaled house list, and ask the chatGPT to rank the house based on users requirements. \n",
    "\n",
    "All this step is realized by using langchain."
   ]
  },
  {
   "cell_type": "code",
   "execution_count": 110,
   "metadata": {},
   "outputs": [],
   "source": [
    "#\n",
    "import dotenv\n",
    "import lancedb\n",
    "from typing import List\n",
    "from langchain_core.prompts import PromptTemplate, ChatPromptTemplate\n",
    "from langchain_community.vectorstores.lancedb import LanceDB\n",
    "from langchain_openai.embeddings import OpenAIEmbeddings\n",
    "from langchain_core.runnables import RunnablePassthrough\n",
    "from langchain_core.output_parsers import NumberedListOutputParser\n",
    "dotenv.load_dotenv()\n",
    "\n",
    "# prompt \n",
    "user_preference_template = \"\"\"First, based on users requirements on budget, remove the house that not satisfied.\n",
    "then ranking the result based on its suitability to users preference. only keep the best 2.\n",
    "******\\n\n",
    "The users preference are list below:\\n{user_require_list} \\n\n",
    "******\\n\n",
    "some related house information is: {context}\\n\n",
    "******\\n\n",
    "{format_instructions}\n",
    "return result follow the format instructions and each item must be a json obect. \n",
    "In each json object, it must includes metadata of that house except vector.\n",
    "In each json object, it must includes description of that house. \n",
    "add new key named 'suitability', the range is [0-1], 1 means all requirements satisfied.\n",
    "******\\n\"\"\"\n",
    "parser = NumberedListOutputParser()\n",
    "\n",
    "def build_vector_db_query(input: List[str]):\n",
    "    require_list = \"\"\n",
    "    for idx, user_require in enumerate(input[\"input\"]):\n",
    "        require_list += \"{}. {}\\n\".format(idx+1, user_require)\n",
    "    return require_list\n",
    "\n",
    "from langchain_core.runnables import RunnableLambda\n",
    "merge_pref = RunnableLambda(build_vector_db_query)\n",
    "# retrieval\n",
    "db = lancedb.connect('../tmp/lancedb')\n",
    "table = db.open_table('house_match')\n",
    "\n",
    "embedding_model = OpenAIEmbeddings()\n",
    "\n",
    "vectorstore = LanceDB(table, embedding_model, text_key=\"description\")\n",
    "retrieval = vectorstore.as_retriever(\n",
    "    search_kwargs = {'k':4}\n",
    ")\n",
    "\n",
    "# 1.1 merge input into one string\n",
    "parse_chain = {\"input\": RunnablePassthrough()} | merge_pref\n",
    "# 1.2 retrieval related house\n",
    "rag = parse_chain | retrieval\n",
    "# build prompt\n",
    "prompt = ChatPromptTemplate.from_template(user_preference_template)\n",
    "prompt = prompt.partial(format_instructions=parser.get_format_instructions())\n",
    "\n",
    "prompt_build = {\"context\": rag, \"user_require_list\": parse_chain} | prompt\n",
    "\n",
    "# generation \n",
    "from langchain_openai.chat_models import ChatOpenAI\n",
    "\n",
    "chat_model = ChatOpenAI(temperature=0)\n",
    "\n",
    "complete_chain = prompt_build | chat_model | parser"
   ]
  },
  {
   "cell_type": "code",
   "execution_count": 111,
   "metadata": {},
   "outputs": [],
   "source": [
    "user_answer_example = [\n",
    "    \"I can only afford no more than 150,000 yen/month\",\n",
    "    \"I want live near the sea.\",\n",
    "    \"I want to live in some place only take 20 minutes to goto Ueno.\",\n",
    "    \"I want to work into nearest subway station in 8 minutes.\",\n",
    "    \"I hate noise but want to live in downtown area.\",\n",
    "]\n",
    "output = complete_chain.invoke(user_answer_example)"
   ]
  },
  {
   "cell_type": "code",
   "execution_count": 114,
   "metadata": {},
   "outputs": [
    {
     "name": "stdout",
     "output_type": "stream",
     "text": [
      "Running on local URL:  http://127.0.0.1:7865\n",
      "\n",
      "To create a public link, set `share=True` in `launch()`.\n"
     ]
    },
    {
     "data": {
      "text/html": [
       "<div><iframe src=\"http://127.0.0.1:7865/\" width=\"100%\" height=\"500\" allow=\"autoplay; camera; microphone; clipboard-read; clipboard-write;\" frameborder=\"0\" allowfullscreen></iframe></div>"
      ],
      "text/plain": [
       "<IPython.core.display.HTML object>"
      ]
     },
     "metadata": {},
     "output_type": "display_data"
    },
    {
     "data": {
      "text/plain": []
     },
     "execution_count": 114,
     "metadata": {},
     "output_type": "execute_result"
    }
   ],
   "source": [
    "# result visualize interface\n",
    "import gradio as gr\n",
    "import json\n",
    "\n",
    "def parser_result(s):\n",
    "    try:\n",
    "        object = json.loads(s)\n",
    "        return object\n",
    "    except Exception as e:\n",
    "        return {}\n",
    "\n",
    "markdown_template = \"\"\"\n",
    "### House information\\n\n",
    "**{name}** \\n\n",
    "#### Basic Info\\n\n",
    "\\n\n",
    "Location: {location}\\t\\t\\t\\tLayout: {layout}\\n\n",
    "Price: {price}\\t\\t\\t\\tbuilt year: {year}\\n\n",
    "Description: {desc}\\n\n",
    "\\n\n",
    "\"\"\"\n",
    "with gr.Blocks() as demo:\n",
    "    for house in output:\n",
    "        with gr.Column():\n",
    "            house_meta = parser_result(house)\n",
    "            gr.Markdown(\n",
    "                markdown_template.format(\n",
    "                    name = house_meta[\"metadata\"][\"name\"],\n",
    "                    location = house_meta[\"metadata\"][\"location\"],\n",
    "                    layout = house_meta[\"metadata\"][\"layout\"], \n",
    "                    price = house_meta[\"metadata\"][\"price\"], \n",
    "                    year = house_meta[\"metadata\"][\"year\"],\n",
    "                    desc = house_meta[\"description\"], \n",
    "                )\n",
    "            )\n",
    "            gr.Label(\n",
    "                {\"suitability\": house_meta[\"suitability\"]}\n",
    "            )\n",
    "\n",
    "demo.launch()"
   ]
  }
 ],
 "metadata": {
  "kernelspec": {
   "display_name": ".venv",
   "language": "python",
   "name": "python3"
  },
  "language_info": {
   "codemirror_mode": {
    "name": "ipython",
    "version": 3
   },
   "file_extension": ".py",
   "mimetype": "text/x-python",
   "name": "python",
   "nbconvert_exporter": "python",
   "pygments_lexer": "ipython3",
   "version": "3.10.13"
  }
 },
 "nbformat": 4,
 "nbformat_minor": 2
}
