{
 "cells": [
  {
   "cell_type": "markdown",
   "metadata": {},
   "source": [
    "# Real Estate Data Generataion"
   ]
  },
  {
   "cell_type": "markdown",
   "metadata": {},
   "source": [
    "# 1. Data Generation Prompt Build"
   ]
  },
  {
   "cell_type": "markdown",
   "metadata": {},
   "source": [
    "From some House Match Website [House Match](https://search.housematch.com/) e.g. I collect which feature should a real estate data has.\n",
    "\n",
    "```\n",
    "4 Bedrooms 2 Bathrooms 2,018 Size sqft 9,583.2 Lot sqft\n",
    "Single Family Detached • Built in 1959 • $180/SqFt • 1 day on site\n",
    "Fabulous pool home on a large fenced lot, with four bedrooms and two bathrooms with ceramic tile floors throughout the living space and luxury vinyl in the bedrooms. Upgrades throughout include a recently updated hall bath, remodeled kitchen, and new floors; the pool was resurfaced in 2018; the roof and the electrical were updated in 2018; interior paint was updated in 2020; a new range, dishwasher, microwave, and pool pavers were installed in 2023; the exterior was repainted in 2024. Huge backyard, new vinyl fence (2023), huge pool, and plenty of entertaining areas. All bedrooms have ceiling fans. The Great Room leads to the kitchen and dining room with sliding glass doors that lead to the pool area. The seller is offering a home warranty. No HOA, No CDD, and low taxes make this a perfect home for any buyer. It is located near I-75, minutes to retail, shopping, The Grove, Krates at the Grove, Tampa Premium Outlet Mall, Medical, and access to Downtown Tampa, Orlando, and the sunny beaches.\n",
    "```\n",
    "based on this sample and my own experience, I think a House Match estate data for rental should have:\n",
    "\n",
    "- Location\n",
    "- House type (SFR, Mansion e.g., if mansion which level)\n",
    "- Square & Layout (LDK?)\n",
    "- Rental Price\n",
    "- Building info\n",
    "    -  building year\n",
    "    -  structure (wood, concrete, steel e.g.)\n",
    "- Living Related\n",
    "    - Nearest SuperMarket\n",
    "    - Nearest SubwayStation\n",
    "\n",
    "- Some Detail Descrption(All furniture, Air Conditionar e.g.)"
   ]
  },
  {
   "cell_type": "code",
   "execution_count": 1,
   "metadata": {},
   "outputs": [],
   "source": [
    "import os\n",
    "import dotenv\n",
    "\n",
    "if (envfiles:= dotenv.find_dotenv() )!=\"\":\n",
    "    dotenv.load_dotenv(envfiles)\n",
    "else:\n",
    "    print(\".env file not found! Please set OPENAPI KEY first\")"
   ]
  },
  {
   "cell_type": "markdown",
   "metadata": {},
   "source": [
    "I would divide the prompt generate into two steps, as the Location, House type, e.g. is some short text or string that represent some class, it can be seen as a features directly, but detail descrption is a more complicated documentary that merge all this information together but also provide new from other point of view.\n",
    "\n",
    "so I would first generate a dict like data that can be analysied by Pydantic Prompt, and then based on the generated basic features generated a detail description, and at last merge all these together.\n",
    "\n",
    "the prompt itself is already test on chatgpt web application and refined by prompt engineering in GPTs, as the prompt may run many times, I would not want to let it use too many tokens."
   ]
  },
  {
   "cell_type": "markdown",
   "metadata": {},
   "source": [
    "## 1.1 generate basic house information pipeline"
   ]
  },
  {
   "cell_type": "markdown",
   "metadata": {},
   "source": [
    "Build pydantic model first."
   ]
  },
  {
   "cell_type": "code",
   "execution_count": 35,
   "metadata": {},
   "outputs": [],
   "source": [
    "# House Attribute Model\n",
    "from langchain.output_parsers import ResponseSchema, StructuredOutputParser\n",
    "\n",
    "response_schemas = [\n",
    "    ResponseSchema(name=\"name\", description=\"the name of the house\"),\n",
    "    ResponseSchema(name=\"year\", description=\"the house built year\"),\n",
    "    ResponseSchema(name=\"location\", description=\"the location of the house, including cityname, ward name\"),\n",
    "    ResponseSchema(name=\"layout\", description=\"the layout of the house, 1LDK, 1DK, 2LDK e.g.\"),\n",
    "    ResponseSchema(name=\"price\", description=\"the rental price of the house, format should like ¥150,000/month.\"),\n",
    "    ResponseSchema(name=\"description\", description=\"\"\"other auxiliary information of the house,\n",
    "                   like is pet allowed, is somking allowed, free-wifi provided or not, has elevator or not,\n",
    "                   time and method to go to nearest subway station and the station name, time to go to nearest\n",
    "                   supermarket.\n",
    "                   \"\"\"),\n",
    "]\n"
   ]
  },
  {
   "cell_type": "code",
   "execution_count": 36,
   "metadata": {},
   "outputs": [],
   "source": [
    "from langchain.prompts import PromptTemplate\n",
    "from langchain_openai import OpenAI\n",
    "from langchain_community.chat_models import ChatOpenAI\n",
    "\n",
    "model = OpenAI(max_tokens=2048, temperature=0.9) #ChatModel seem more precise than complettion type\n",
    "\n",
    "parser = StructuredOutputParser.from_response_schemas(response_schemas)\n",
    "parser_prompt = parser.get_format_instructions()\n",
    "\n",
    "# This Prompt would not generate exact num_of_data, because ChatGPT may\n",
    "# not remember how much data he need to generate  when N is big,\n",
    "# N around 10 works fine, but when N comes to 20, it would generate\n",
    "# 6 ~ 25 data at a time.\n",
    "prompt = PromptTemplate(\n",
    "    template=\"\"\"Generate a house located in {location} for rental.\\n{format_instructions}\\n\"\"\",\n",
    "    input_variables=[\"location\"], \n",
    "    input_types={\"location\": str},\n",
    "    partial_variables={\"format_instructions\": parser.get_format_instructions()},\n",
    ")\n",
    "\n",
    "chain = prompt | model | parser"
   ]
  },
  {
   "cell_type": "code",
   "execution_count": 37,
   "metadata": {},
   "outputs": [
    {
     "data": {
      "text/plain": [
       "[{'name': 'Modern Tokyo House in Shibuya',\n",
       "  'year': '2018',\n",
       "  'location': 'Shibuya Ward, Tokyo',\n",
       "  'layout': '3LDK',\n",
       "  'price': '¥250,000/month',\n",
       "  'description': 'This modern house was built in 2018 and is located in the bustling Shibuya Ward of Tokyo. It features a spacious 3LDK layout, perfect for families or roommates. Pets and smoking are not allowed in the house. Free wifi is provided for tenants. The nearest subway station is a 5-minute walk away and the nearest supermarket can be reached in 10 minutes on foot.'},\n",
       " {'name': 'Cozy Yokohama House',\n",
       "  'year': '2015',\n",
       "  'location': 'Yokohama, Kanagawa',\n",
       "  'layout': '1LDK',\n",
       "  'price': '¥150,000/month',\n",
       "  'description': 'This modern house is located in the heart of Yokohama, a bustling city known for its beautiful parks, shopping, and cultural attractions. The house is pet-friendly and smoking is allowed on the balcony. Free wifi is provided and there is an elevator for easy access. The nearest subway station is a 5-minute walk away and connects to major areas of the city. The nearest supermarket is a 10-minute walk away. Perfect for those looking to experience all that Yokohama has to offer.'}]"
      ]
     },
     "execution_count": 37,
     "metadata": {},
     "output_type": "execute_result"
    }
   ],
   "source": [
    "# check generation sample\n",
    "# test\n",
    "output = chain.batch([{\"location\":\"tokyo\"}, {\"location\":\"yokohama\"}])\n",
    "output"
   ]
  },
  {
   "cell_type": "code",
   "execution_count": 41,
   "metadata": {},
   "outputs": [
    {
     "name": "stderr",
     "output_type": "stream",
     "text": [
      "100%|██████████| 200/200 [04:06<00:00,  1.23s/it]\n"
     ]
    }
   ],
   "source": [
    "# try 400 times, get as much data as we can\n",
    "from time import sleep\n",
    "from tqdm import tqdm\n",
    "from numpy import random\n",
    "cities = ['tokyo', 'yokohama', 'kawasaki', 'chiba', 'saitama', 'fujisawa']\n",
    "\n",
    "tried = 0\n",
    "generated_data = []\n",
    "\n",
    "with tqdm(total=200) as pbar:\n",
    "    while len(generated_data)<200:\n",
    "        tried += 1\n",
    "        try:\n",
    "            sampled_cities = random.choice(cities, 5, replace=True)\n",
    "            batch = [{\"location\":c} for c in sampled_cities]\n",
    "            output = chain.batch(batch)\n",
    "            generated_data += output\n",
    "            pbar.update(5)\n",
    "            sleep(0.1)\n",
    "        except Exception as e:\n",
    "            pass\n"
   ]
  },
  {
   "cell_type": "code",
   "execution_count": 11,
   "metadata": {},
   "outputs": [],
   "source": [
    "import json\n",
    "import pandas as pd\n",
    "df = None\n",
    "\n",
    "for house_obj in generated_data:\n",
    "    house_obj['index'] = [0]\n",
    "    row = pd.DataFrame.from_dict(house_obj)\n",
    "    if df is None:\n",
    "        df = row\n",
    "    else:\n",
    "        df = pd.concat([df, row], axis=0)\n",
    "df = df.reset_index(drop=True)\n",
    "df = df.drop(columns=[\"index\"])\n",
    "df.to_csv(\"../data/chatgpt_house_match_data.csv\", index=False)"
   ]
  },
  {
   "cell_type": "markdown",
   "metadata": {},
   "source": [
    "## 1.2 generated data clean and EDA"
   ]
  },
  {
   "cell_type": "code",
   "execution_count": 12,
   "metadata": {},
   "outputs": [
    {
     "data": {
      "text/html": [
       "<div>\n",
       "<style scoped>\n",
       "    .dataframe tbody tr th:only-of-type {\n",
       "        vertical-align: middle;\n",
       "    }\n",
       "\n",
       "    .dataframe tbody tr th {\n",
       "        vertical-align: top;\n",
       "    }\n",
       "\n",
       "    .dataframe thead th {\n",
       "        text-align: right;\n",
       "    }\n",
       "</style>\n",
       "<table border=\"1\" class=\"dataframe\">\n",
       "  <thead>\n",
       "    <tr style=\"text-align: right;\">\n",
       "      <th></th>\n",
       "      <th>price</th>\n",
       "      <th>location_city</th>\n",
       "      <th>location_ward</th>\n",
       "      <th>type_type</th>\n",
       "      <th>type_square</th>\n",
       "      <th>type_layout</th>\n",
       "      <th>type_layout_details</th>\n",
       "      <th>built_info_year</th>\n",
       "      <th>built_info_structure</th>\n",
       "      <th>live_info_nearest_supermarket</th>\n",
       "      <th>live_info_nearest_subway</th>\n",
       "      <th>live_info_subwaystation_name</th>\n",
       "    </tr>\n",
       "  </thead>\n",
       "  <tbody>\n",
       "    <tr>\n",
       "      <th>0</th>\n",
       "      <td>$800</td>\n",
       "      <td>Tokyo City</td>\n",
       "      <td>Shinjuku Ward</td>\n",
       "      <td>Apartment</td>\n",
       "      <td>40 square meters</td>\n",
       "      <td>1LDK</td>\n",
       "      <td>Living room: 20 square meters</td>\n",
       "      <td>2010</td>\n",
       "      <td>Concrete</td>\n",
       "      <td>10 minutes by walk</td>\n",
       "      <td>5 minutes by bus</td>\n",
       "      <td>Shinjuku Station</td>\n",
       "    </tr>\n",
       "    <tr>\n",
       "      <th>1</th>\n",
       "      <td>$900</td>\n",
       "      <td>Tokyo City</td>\n",
       "      <td>Minato Ward</td>\n",
       "      <td>Apartment</td>\n",
       "      <td>45</td>\n",
       "      <td>1LDK</td>\n",
       "      <td>Living room: 20 sqm</td>\n",
       "      <td>2010</td>\n",
       "      <td>Concrete</td>\n",
       "      <td>10 minutes by walk</td>\n",
       "      <td>5 minutes by bus</td>\n",
       "      <td>Shinagawa Station</td>\n",
       "    </tr>\n",
       "    <tr>\n",
       "      <th>2</th>\n",
       "      <td>$800</td>\n",
       "      <td>Tokyo City</td>\n",
       "      <td>Shinjuku</td>\n",
       "      <td>Apartment</td>\n",
       "      <td>50 sqm</td>\n",
       "      <td>1LDK</td>\n",
       "      <td>Living room: 20 sqm</td>\n",
       "      <td>2000</td>\n",
       "      <td>Concrete</td>\n",
       "      <td>10 minutes by walk</td>\n",
       "      <td>5 minutes by bus</td>\n",
       "      <td>Shinjuku Station</td>\n",
       "    </tr>\n",
       "    <tr>\n",
       "      <th>3</th>\n",
       "      <td>$800</td>\n",
       "      <td>Tokyo City</td>\n",
       "      <td>Minato Ward</td>\n",
       "      <td>Apartment</td>\n",
       "      <td>50 sqm</td>\n",
       "      <td>1LDK</td>\n",
       "      <td>Living room: 20 sqm</td>\n",
       "      <td>2005</td>\n",
       "      <td>Concrete</td>\n",
       "      <td>10 minutes by walk</td>\n",
       "      <td>5 minutes by bus</td>\n",
       "      <td>Shinagawa Station</td>\n",
       "    </tr>\n",
       "    <tr>\n",
       "      <th>4</th>\n",
       "      <td>$1000</td>\n",
       "      <td>Tokyo City</td>\n",
       "      <td>Shibuya Ward</td>\n",
       "      <td>Apartment</td>\n",
       "      <td>60 sqm</td>\n",
       "      <td>1LDK</td>\n",
       "      <td>20 sqm living room</td>\n",
       "      <td>2010</td>\n",
       "      <td>Concrete</td>\n",
       "      <td>10 minutes by bus</td>\n",
       "      <td>5 minutes by walk</td>\n",
       "      <td>Shibuya Station</td>\n",
       "    </tr>\n",
       "  </tbody>\n",
       "</table>\n",
       "</div>"
      ],
      "text/plain": [
       "   price location_city  location_ward  type_type       type_square  \\\n",
       "0   $800    Tokyo City  Shinjuku Ward  Apartment  40 square meters   \n",
       "1   $900    Tokyo City    Minato Ward  Apartment                45   \n",
       "2   $800    Tokyo City       Shinjuku  Apartment            50 sqm   \n",
       "3   $800    Tokyo City    Minato Ward  Apartment            50 sqm   \n",
       "4  $1000    Tokyo City   Shibuya Ward  Apartment            60 sqm   \n",
       "\n",
       "  type_layout            type_layout_details  built_info_year  \\\n",
       "0        1LDK  Living room: 20 square meters             2010   \n",
       "1        1LDK            Living room: 20 sqm             2010   \n",
       "2        1LDK            Living room: 20 sqm             2000   \n",
       "3        1LDK            Living room: 20 sqm             2005   \n",
       "4        1LDK             20 sqm living room             2010   \n",
       "\n",
       "  built_info_structure live_info_nearest_supermarket live_info_nearest_subway  \\\n",
       "0             Concrete            10 minutes by walk         5 minutes by bus   \n",
       "1             Concrete            10 minutes by walk         5 minutes by bus   \n",
       "2             Concrete            10 minutes by walk         5 minutes by bus   \n",
       "3             Concrete            10 minutes by walk         5 minutes by bus   \n",
       "4             Concrete             10 minutes by bus        5 minutes by walk   \n",
       "\n",
       "  live_info_subwaystation_name  \n",
       "0             Shinjuku Station  \n",
       "1            Shinagawa Station  \n",
       "2             Shinjuku Station  \n",
       "3            Shinagawa Station  \n",
       "4              Shibuya Station  "
      ]
     },
     "execution_count": 12,
     "metadata": {},
     "output_type": "execute_result"
    }
   ],
   "source": [
    "import pandas as pd\n",
    "\n",
    "df = pd.read_csv(\"../data/chatgpt_house_match_data.csv\")\n",
    "df.head()"
   ]
  },
  {
   "cell_type": "code",
   "execution_count": 19,
   "metadata": {},
   "outputs": [
    {
     "data": {
      "text/html": [
       "<div>\n",
       "<style scoped>\n",
       "    .dataframe tbody tr th:only-of-type {\n",
       "        vertical-align: middle;\n",
       "    }\n",
       "\n",
       "    .dataframe tbody tr th {\n",
       "        vertical-align: top;\n",
       "    }\n",
       "\n",
       "    .dataframe thead th {\n",
       "        text-align: right;\n",
       "    }\n",
       "</style>\n",
       "<table border=\"1\" class=\"dataframe\">\n",
       "  <thead>\n",
       "    <tr style=\"text-align: right;\">\n",
       "      <th></th>\n",
       "      <th>price</th>\n",
       "      <th>location_city</th>\n",
       "      <th>location_ward</th>\n",
       "      <th>type_type</th>\n",
       "      <th>type_square</th>\n",
       "      <th>type_layout</th>\n",
       "      <th>type_layout_details</th>\n",
       "      <th>built_info_year</th>\n",
       "      <th>built_info_structure</th>\n",
       "      <th>live_info_nearest_supermarket</th>\n",
       "      <th>live_info_nearest_subway</th>\n",
       "      <th>live_info_subwaystation_name</th>\n",
       "    </tr>\n",
       "  </thead>\n",
       "  <tbody>\n",
       "    <tr>\n",
       "      <th>157</th>\n",
       "      <td>NaN</td>\n",
       "      <td>NaN</td>\n",
       "      <td>NaN</td>\n",
       "      <td>NaN</td>\n",
       "      <td>NaN</td>\n",
       "      <td>NaN</td>\n",
       "      <td>NaN</td>\n",
       "      <td>0</td>\n",
       "      <td>NaN</td>\n",
       "      <td>NaN</td>\n",
       "      <td>NaN</td>\n",
       "      <td>NaN</td>\n",
       "    </tr>\n",
       "  </tbody>\n",
       "</table>\n",
       "</div>"
      ],
      "text/plain": [
       "    price location_city location_ward type_type type_square type_layout  \\\n",
       "157   NaN           NaN           NaN       NaN         NaN         NaN   \n",
       "\n",
       "    type_layout_details  built_info_year built_info_structure  \\\n",
       "157                 NaN                0                  NaN   \n",
       "\n",
       "    live_info_nearest_supermarket live_info_nearest_subway  \\\n",
       "157                           NaN                      NaN   \n",
       "\n",
       "    live_info_subwaystation_name  \n",
       "157                          NaN  "
      ]
     },
     "execution_count": 19,
     "metadata": {},
     "output_type": "execute_result"
    }
   ],
   "source": [
    "df.loc[df.location_city.isna()]"
   ]
  },
  {
   "cell_type": "code",
   "execution_count": 13,
   "metadata": {},
   "outputs": [
    {
     "data": {
      "text/plain": [
       "array(['Tokyo City', nan], dtype=object)"
      ]
     },
     "execution_count": 13,
     "metadata": {},
     "output_type": "execute_result"
    }
   ],
   "source": [
    "df.location_city.unique()"
   ]
  },
  {
   "cell_type": "code",
   "execution_count": 15,
   "metadata": {},
   "outputs": [
    {
     "data": {
      "text/plain": [
       "array(['1LDK', '2LDK', '1DK', nan], dtype=object)"
      ]
     },
     "execution_count": 15,
     "metadata": {},
     "output_type": "execute_result"
    }
   ],
   "source": [
    "df.type_layout.unique()"
   ]
  },
  {
   "cell_type": "code",
   "execution_count": 14,
   "metadata": {},
   "outputs": [
    {
     "data": {
      "text/plain": [
       "array(['Shinjuku Ward', 'Minato Ward', 'Shinjuku', 'Shibuya Ward',\n",
       "       'Shibuya', 'Minato', 'Chiyoda', 'Chiyoda Ward', nan], dtype=object)"
      ]
     },
     "execution_count": 14,
     "metadata": {},
     "output_type": "execute_result"
    }
   ],
   "source": [
    "df.location_ward.unique()"
   ]
  },
  {
   "cell_type": "markdown",
   "metadata": {},
   "source": [
    "It seems ChatGPT 3.5 may genereate data with some fault, for example Yokohama is a city and Kawasaki is also a city, its relation is not City <-> Ward, so transform it to Kanagawa may make this become more accurate."
   ]
  },
  {
   "cell_type": "code",
   "execution_count": 95,
   "metadata": {},
   "outputs": [
    {
     "ename": "AttributeError",
     "evalue": "'DataFrame' object has no attribute 'city'",
     "output_type": "error",
     "traceback": [
      "\u001b[0;31m---------------------------------------------------------------------------\u001b[0m",
      "\u001b[0;31mAttributeError\u001b[0m                            Traceback (most recent call last)",
      "\u001b[0;32m/tmp/ipykernel_1612466/1115668748.py\u001b[0m in \u001b[0;36m?\u001b[0;34m()\u001b[0m\n\u001b[1;32m      1\u001b[0m \u001b[0;31m# map yokohama -> kanagawa\u001b[0m\u001b[0;34m\u001b[0m\u001b[0;34m\u001b[0m\u001b[0m\n\u001b[1;32m      2\u001b[0m fix_ = {\n\u001b[1;32m      3\u001b[0m     \u001b[0;34m\"Yokohama, Minato\"\u001b[0m\u001b[0;34m:\u001b[0m \u001b[0;34m\"\"\u001b[0m\u001b[0;34m\u001b[0m\u001b[0;34m\u001b[0m\u001b[0m\n\u001b[1;32m      4\u001b[0m }\n\u001b[0;32m----> 5\u001b[0;31m \u001b[0mdf\u001b[0m\u001b[0;34m.\u001b[0m\u001b[0mcity\u001b[0m \u001b[0;34m=\u001b[0m \u001b[0mdf\u001b[0m\u001b[0;34m.\u001b[0m\u001b[0mcity\u001b[0m\u001b[0;34m.\u001b[0m\u001b[0mreplace\u001b[0m\u001b[0;34m(\u001b[0m\u001b[0;34m{\u001b[0m\u001b[0;34m\"Yokohama\"\u001b[0m\u001b[0;34m:\u001b[0m\u001b[0;34m'Kanagawa'\u001b[0m\u001b[0;34m}\u001b[0m\u001b[0;34m)\u001b[0m\u001b[0;34m\u001b[0m\u001b[0;34m\u001b[0m\u001b[0m\n\u001b[0m\u001b[1;32m      6\u001b[0m \u001b[0mdf\u001b[0m\u001b[0;34m.\u001b[0m\u001b[0mhead\u001b[0m\u001b[0;34m(\u001b[0m\u001b[0;34m)\u001b[0m\u001b[0;34m\u001b[0m\u001b[0;34m\u001b[0m\u001b[0m\n",
      "\u001b[0;32m~/PREAgent/.venv/lib/python3.10/site-packages/pandas/core/generic.py\u001b[0m in \u001b[0;36m?\u001b[0;34m(self, name)\u001b[0m\n\u001b[1;32m   6289\u001b[0m             \u001b[0;32mand\u001b[0m \u001b[0mname\u001b[0m \u001b[0;32mnot\u001b[0m \u001b[0;32min\u001b[0m \u001b[0mself\u001b[0m\u001b[0;34m.\u001b[0m\u001b[0m_accessors\u001b[0m\u001b[0;34m\u001b[0m\u001b[0;34m\u001b[0m\u001b[0m\n\u001b[1;32m   6290\u001b[0m             \u001b[0;32mand\u001b[0m \u001b[0mself\u001b[0m\u001b[0;34m.\u001b[0m\u001b[0m_info_axis\u001b[0m\u001b[0;34m.\u001b[0m\u001b[0m_can_hold_identifiers_and_holds_name\u001b[0m\u001b[0;34m(\u001b[0m\u001b[0mname\u001b[0m\u001b[0;34m)\u001b[0m\u001b[0;34m\u001b[0m\u001b[0;34m\u001b[0m\u001b[0m\n\u001b[1;32m   6291\u001b[0m         ):\n\u001b[1;32m   6292\u001b[0m             \u001b[0;32mreturn\u001b[0m \u001b[0mself\u001b[0m\u001b[0;34m[\u001b[0m\u001b[0mname\u001b[0m\u001b[0;34m]\u001b[0m\u001b[0;34m\u001b[0m\u001b[0;34m\u001b[0m\u001b[0m\n\u001b[0;32m-> 6293\u001b[0;31m         \u001b[0;32mreturn\u001b[0m \u001b[0mobject\u001b[0m\u001b[0;34m.\u001b[0m\u001b[0m__getattribute__\u001b[0m\u001b[0;34m(\u001b[0m\u001b[0mself\u001b[0m\u001b[0;34m,\u001b[0m \u001b[0mname\u001b[0m\u001b[0;34m)\u001b[0m\u001b[0;34m\u001b[0m\u001b[0;34m\u001b[0m\u001b[0m\n\u001b[0m",
      "\u001b[0;31mAttributeError\u001b[0m: 'DataFrame' object has no attribute 'city'"
     ]
    }
   ],
   "source": [
    "# map yokohama -> kanagawa\n",
    "fix_ = {\n",
    "    \"Yokohama, Minato\": \"Kanagawa, Yokohama Minato\",\n",
    "    \"Yokohama, Nishi\": \"Kanagawa, Yokohama Nishi\",\n",
    "    \"Yokohama, Kanagawa\": \"Kanagawa, Yokohama City\",\n",
    "    \"Yokohama, Kawasaki\": \"Kanagawa, Yokosuka\",\n",
    "    \"Yokohama, Minato\": \"Kanagawa, Yokohama Minato\"\n",
    "    \"Yokohama, Minato\": \"Kanagawa, Yokohama Minato\"\n",
    "    \"Yokohama, Minato\": \"Kanagawa, Yokohama Minato\"\n",
    "    \n",
    "}\n",
    "df.city = df.city.replace({\"Yokohama\":'Kanagawa'})\n",
    "df.head()"
   ]
  },
  {
   "cell_type": "code",
   "execution_count": 87,
   "metadata": {},
   "outputs": [
    {
     "data": {
      "text/html": [
       "<div>\n",
       "<style scoped>\n",
       "    .dataframe tbody tr th:only-of-type {\n",
       "        vertical-align: middle;\n",
       "    }\n",
       "\n",
       "    .dataframe tbody tr th {\n",
       "        vertical-align: top;\n",
       "    }\n",
       "\n",
       "    .dataframe thead th {\n",
       "        text-align: right;\n",
       "    }\n",
       "</style>\n",
       "<table border=\"1\" class=\"dataframe\">\n",
       "  <thead>\n",
       "    <tr style=\"text-align: right;\">\n",
       "      <th></th>\n",
       "      <th>location</th>\n",
       "      <th>price</th>\n",
       "      <th>type_type</th>\n",
       "      <th>type_square</th>\n",
       "      <th>type_layout</th>\n",
       "      <th>type_layout_details</th>\n",
       "      <th>built_info_year</th>\n",
       "      <th>built_info_structure</th>\n",
       "      <th>live_info_nearest_supermarket</th>\n",
       "      <th>live_info_nearest_subway</th>\n",
       "      <th>city</th>\n",
       "      <th>ward</th>\n",
       "    </tr>\n",
       "  </thead>\n",
       "  <tbody>\n",
       "    <tr>\n",
       "      <th>0</th>\n",
       "      <td>Tokyo, Shibuya</td>\n",
       "      <td>$800</td>\n",
       "      <td>apartment</td>\n",
       "      <td>50 sqm</td>\n",
       "      <td>1LDK</td>\n",
       "      <td>20 sqm living room</td>\n",
       "      <td>2005</td>\n",
       "      <td>concrete</td>\n",
       "      <td>10 minutes by walk</td>\n",
       "      <td>5 minutes by bus</td>\n",
       "      <td>Tokyo</td>\n",
       "      <td>Shibuya</td>\n",
       "    </tr>\n",
       "    <tr>\n",
       "      <th>1</th>\n",
       "      <td>Yokohama, Minato</td>\n",
       "      <td>$1000</td>\n",
       "      <td>condominium</td>\n",
       "      <td>80 sqm</td>\n",
       "      <td>2LDK</td>\n",
       "      <td>30 sqm living room</td>\n",
       "      <td>1998</td>\n",
       "      <td>steel</td>\n",
       "      <td>15 minutes by walk</td>\n",
       "      <td>10 minutes by bus</td>\n",
       "      <td>Yokohama</td>\n",
       "      <td>Minato</td>\n",
       "    </tr>\n",
       "    <tr>\n",
       "      <th>2</th>\n",
       "      <td>Chiba, Urayasu</td>\n",
       "      <td>$1200</td>\n",
       "      <td>house</td>\n",
       "      <td>120 sqm</td>\n",
       "      <td>3LDK</td>\n",
       "      <td>40 sqm living room</td>\n",
       "      <td>2010</td>\n",
       "      <td>wood</td>\n",
       "      <td>5 minutes by walk</td>\n",
       "      <td>20 minutes by bus</td>\n",
       "      <td>Chiba</td>\n",
       "      <td>Urayasu</td>\n",
       "    </tr>\n",
       "    <tr>\n",
       "      <th>3</th>\n",
       "      <td>Tokyo, Shinjuku</td>\n",
       "      <td>$900</td>\n",
       "      <td>apartment</td>\n",
       "      <td>60 sqm</td>\n",
       "      <td>1DK</td>\n",
       "      <td>25 sqm living room</td>\n",
       "      <td>1990</td>\n",
       "      <td>concrete</td>\n",
       "      <td>20 minutes by walk</td>\n",
       "      <td>15 minutes by bus</td>\n",
       "      <td>Tokyo</td>\n",
       "      <td>Shinjuku</td>\n",
       "    </tr>\n",
       "    <tr>\n",
       "      <th>4</th>\n",
       "      <td>Yokohama, Nishi</td>\n",
       "      <td>$1100</td>\n",
       "      <td>condominium</td>\n",
       "      <td>90 sqm</td>\n",
       "      <td>2LDK</td>\n",
       "      <td>35 sqm living room</td>\n",
       "      <td>2002</td>\n",
       "      <td>steel</td>\n",
       "      <td>10 minutes by walk</td>\n",
       "      <td>10 minutes by bus</td>\n",
       "      <td>Yokohama</td>\n",
       "      <td>Nishi</td>\n",
       "    </tr>\n",
       "  </tbody>\n",
       "</table>\n",
       "</div>"
      ],
      "text/plain": [
       "           location  price    type_type type_square type_layout  \\\n",
       "0    Tokyo, Shibuya   $800    apartment      50 sqm        1LDK   \n",
       "1  Yokohama, Minato  $1000  condominium      80 sqm        2LDK   \n",
       "2    Chiba, Urayasu  $1200        house     120 sqm        3LDK   \n",
       "3   Tokyo, Shinjuku   $900    apartment      60 sqm         1DK   \n",
       "4   Yokohama, Nishi  $1100  condominium      90 sqm        2LDK   \n",
       "\n",
       "  type_layout_details  built_info_year built_info_structure  \\\n",
       "0  20 sqm living room             2005             concrete   \n",
       "1  30 sqm living room             1998                steel   \n",
       "2  40 sqm living room             2010                 wood   \n",
       "3  25 sqm living room             1990             concrete   \n",
       "4  35 sqm living room             2002                steel   \n",
       "\n",
       "  live_info_nearest_supermarket live_info_nearest_subway      city       ward  \n",
       "0            10 minutes by walk         5 minutes by bus     Tokyo    Shibuya  \n",
       "1            15 minutes by walk        10 minutes by bus  Yokohama     Minato  \n",
       "2             5 minutes by walk        20 minutes by bus     Chiba    Urayasu  \n",
       "3            20 minutes by walk        15 minutes by bus     Tokyo   Shinjuku  \n",
       "4            10 minutes by walk        10 minutes by bus  Yokohama      Nishi  "
      ]
     },
     "execution_count": 87,
     "metadata": {},
     "output_type": "execute_result"
    }
   ],
   "source": [
    "data = np.vstack(df.location.apply(lambda x: x.split(\",\")).values)\n",
    "data = pd.DataFrame(data, columns=[\"city\", \"ward\"])\n",
    "df[[\"city\", \"ward\"]] = data\n",
    "df.head()"
   ]
  },
  {
   "cell_type": "markdown",
   "metadata": {},
   "source": [
    "# 1.2 generate description pipeline"
   ]
  }
 ],
 "metadata": {
  "kernelspec": {
   "display_name": ".venv",
   "language": "python",
   "name": "python3"
  },
  "language_info": {
   "codemirror_mode": {
    "name": "ipython",
    "version": 3
   },
   "file_extension": ".py",
   "mimetype": "text/x-python",
   "name": "python",
   "nbconvert_exporter": "python",
   "pygments_lexer": "ipython3",
   "version": "3.10.13"
  }
 },
 "nbformat": 4,
 "nbformat_minor": 2
}
