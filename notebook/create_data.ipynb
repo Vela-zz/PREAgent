{
 "cells": [
  {
   "cell_type": "markdown",
   "metadata": {},
   "source": [
    "# Real Estate Data Generataion"
   ]
  },
  {
   "cell_type": "markdown",
   "metadata": {},
   "source": [
    "# 1. Data Generation Prompt Build"
   ]
  },
  {
   "cell_type": "markdown",
   "metadata": {},
   "source": [
    "From some House Match Website [House Match](https://search.housematch.com/) e.g. I collect which feature should a real estate data has.\n",
    "\n",
    "```\n",
    "4 Bedrooms 2 Bathrooms 2,018 Size sqft 9,583.2 Lot sqft\n",
    "Single Family Detached • Built in 1959 • $180/SqFt • 1 day on site\n",
    "Fabulous pool home on a large fenced lot, with four bedrooms and two bathrooms with ceramic tile floors throughout the living space and luxury vinyl in the bedrooms. Upgrades throughout include a recently updated hall bath, remodeled kitchen, and new floors; the pool was resurfaced in 2018; the roof and the electrical were updated in 2018; interior paint was updated in 2020; a new range, dishwasher, microwave, and pool pavers were installed in 2023; the exterior was repainted in 2024. Huge backyard, new vinyl fence (2023), huge pool, and plenty of entertaining areas. All bedrooms have ceiling fans. The Great Room leads to the kitchen and dining room with sliding glass doors that lead to the pool area. The seller is offering a home warranty. No HOA, No CDD, and low taxes make this a perfect home for any buyer. It is located near I-75, minutes to retail, shopping, The Grove, Krates at the Grove, Tampa Premium Outlet Mall, Medical, and access to Downtown Tampa, Orlando, and the sunny beaches.\n",
    "```\n",
    "based on this sample and my own experience, I think a House Match estate data for rental should have:\n",
    "\n",
    "- Location\n",
    "- House type (SFR, Mansion e.g., if mansion which level)\n",
    "- Square & Layout (LDK?)\n",
    "- Rental Price\n",
    "- Building info\n",
    "    -  building year\n",
    "    -  structure (wood, concrete, steel e.g.)\n",
    "- Living Related\n",
    "    - Nearest SuperMarket\n",
    "    - Nearest SubwayStation\n",
    "\n",
    "- Some Detail Descrption(All furniture, Air Conditionar e.g.)"
   ]
  },
  {
   "cell_type": "code",
   "execution_count": 11,
   "metadata": {},
   "outputs": [],
   "source": [
    "import os\n",
    "import dotenv\n",
    "\n",
    "if (envfiles:= dotenv.find_dotenv() )!=\"\":\n",
    "    dotenv.load_dotenv(envfiles)\n",
    "else:\n",
    "    print(\".env file not found! Please set OPENAPI KEY first\")"
   ]
  },
  {
   "cell_type": "markdown",
   "metadata": {},
   "source": [
    "I would divide the prompt generate into two steps, as the Location, House type, e.g. is some short text or string that represent some class, it can be seen as a features directly, but detail descrption is a more complicated documentary that merge all this information together but also provide new from other point of view.\n",
    "\n",
    "so I would first generate a dict like data that can be analysied by Pydantic Prompt, and then based on the generated basic features generated a detail description, and at last merge all these together.\n",
    "\n",
    "the prompt itself is already test on chatgpt web application and refined by prompt engineering in GPTs, as the prompt may run many times, I would not want to let it use too many tokens."
   ]
  },
  {
   "cell_type": "markdown",
   "metadata": {},
   "source": [
    "## 1.1 generate basic house information pipeline"
   ]
  },
  {
   "cell_type": "code",
   "execution_count": 41,
   "metadata": {},
   "outputs": [],
   "source": [
    "# House Attribute Model\n",
    "from typing import List\n",
    "from langchain_core.pydantic_v1 import BaseModel, Field\n",
    "\n",
    "class HouseType(BaseModel):\n",
    "    type: str = Field(description=\"type of this house, like apartment ,condominium e.g.\")\n",
    "    square: str = Field(description=\"the square of this hosue.\")\n",
    "    layout: str = Field(description=\"layout of this house, like 1LDK, 2LDK, 1DK e.g.\")\n",
    "    layout_details: str = Field(description=\"\"\"details about layout of this house, \n",
    "                      like how much square of living room e.g.\"\"\")\n",
    "\n",
    "class BuildInfo(BaseModel):\n",
    "    year: int = Field(description=\"\"\"when the house built,\n",
    "                      should smaller than 2024 but bigger than 1980.\"\"\")\n",
    "    structure: str = Field(description=\"\"\"the structure of this house,\n",
    "                           one of the following selection: wood, steel, concrete.\"\"\")\n",
    "\n",
    "class LivingInfo(BaseModel):\n",
    "    nearest_supermarket: str = Field(description=\"\"\"how long and by which method\n",
    "                                     will it take to go to nearest supermarket.\n",
    "                                     The method would be by bus or by walk\"\"\")\n",
    "    nearest_subway: str = Field(description=\"\"\"how long and by which method\n",
    "                                     will it take to go to nearest subwaystation.\n",
    "                                     The method would be by bus or by walk\"\"\")\n",
    "\n",
    "class House(BaseModel):\n",
    "    location: str = Field(description=\"\"\"\n",
    "                          the location of this house, include two attribute,\n",
    "                          city and ward, city selection: Tokyo, Yokohama, Chiba,\n",
    "                          ward is a ward in that city.\n",
    "                          \"\"\")\n",
    "    type: HouseType\n",
    "    price: str = Field(description=\"\"\"the money should be paid to\n",
    "                       rent this house monthly, in dollars,\n",
    "                       basically it would be $800 for 1ldk in Tokyo\n",
    "                       with slight change based on the ward and square\"\"\")\n",
    "    built_info: BuildInfo\n",
    "    live_info: LivingInfo\n",
    "\n",
    "class HouseList(BaseModel):\n",
    "    house_list: List[House]"
   ]
  },
  {
   "cell_type": "code",
   "execution_count": 42,
   "metadata": {},
   "outputs": [],
   "source": [
    "from langchain.prompts import PromptTemplate\n",
    "from langchain_community.chat_models import ChatOpenAI\n",
    "from langchain.output_parsers import PydanticOutputParser\n",
    "\n",
    "model = ChatOpenAI()\n",
    "\n",
    "parser = PydanticOutputParser(pydantic_object=HouseList)\n",
    "parser_prompt = parser.get_format_instructions()\n",
    "\n",
    "# This Prompt would not generate exact num_of_data, because ChatGPT may\n",
    "# not remember how much data he need to generate  when N is big,\n",
    "# N around 10 works fine, but when N comes to 20, it would generate\n",
    "# 6 ~ 25 data at a time.\n",
    "prompt = PromptTemplate(\n",
    "    template=\"\"\"Generate {num_of_data} house information for rental in house_list.\n",
    "    Return the final result as JSON object direclty.\\n{format_instructions}\\n\"\"\",\n",
    "    input_variables=[\"num_of_data\"], \n",
    "    input_types={\"num_of_data\": int},\n",
    "    partial_variables={\"format_instructions\": parser.get_format_instructions()},\n",
    ")\n",
    "\n",
    "chain = prompt | model | parser\n",
    "# test\n",
    "output = chain.invoke({\"num_of_data\":2})"
   ]
  },
  {
   "cell_type": "code",
   "execution_count": 43,
   "metadata": {},
   "outputs": [
    {
     "data": {
      "text/plain": [
       "HouseList(house_list=[House(location='Tokyo, Shibuya', type=HouseType(type='Apartment', square='50 sqm', layout='1LDK', layout_details='20 sqm living room'), price='$1000', built_info=BuildInfo(year=2010, structure='Concrete'), live_info=LivingInfo(nearest_supermarket='10 minutes by walk', nearest_subway='5 minutes by bus')), House(location='Yokohama, Kanagawa', type=HouseType(type='Condominium', square='70 sqm', layout='2LDK', layout_details='25 sqm living room'), price='$1200', built_info=BuildInfo(year=2015, structure='Steel'), live_info=LivingInfo(nearest_supermarket='15 minutes by walk', nearest_subway='10 minutes by bus'))])"
      ]
     },
     "execution_count": 43,
     "metadata": {},
     "output_type": "execute_result"
    }
   ],
   "source": [
    "output"
   ]
  },
  {
   "cell_type": "code",
   "execution_count": null,
   "metadata": {},
   "outputs": [],
   "source": [
    "# create 200 data, may take around 30 minutes\n",
    "generated_data = []\n",
    "for i in range(12):\n",
    "    output = chain.invoke({\"num_of_data\":20})\n",
    "    generated_data.append(output.house_list)"
   ]
  },
  {
   "cell_type": "code",
   "execution_count": 54,
   "metadata": {},
   "outputs": [],
   "source": [
    "import numpy as np\n",
    "flatten_data: List[House] = np.concatenate(generated_data).ravel().tolist()"
   ]
  },
  {
   "cell_type": "code",
   "execution_count": 74,
   "metadata": {},
   "outputs": [],
   "source": [
    "import json\n",
    "import pandas as pd\n",
    "df = None\n",
    "\n",
    "for house_obj in flatten_data:\n",
    "    raw_attr = json.loads(house_obj.json())\n",
    "    house_attr = raw_attr.copy()\n",
    "    # normalize json object\n",
    "    for key, val in raw_attr.items():\n",
    "        if isinstance(val, dict):\n",
    "            val = raw_attr[key]\n",
    "            house_attr.pop(key)\n",
    "            for sub_key, sub_val in val.items():\n",
    "                house_attr[key+'_'+sub_key] = sub_val\n",
    "        else:\n",
    "            pass\n",
    "    house_attr['index'] = [0]\n",
    "    row = pd.DataFrame.from_dict(house_attr)\n",
    "    if df is None:\n",
    "        df = row\n",
    "    else:\n",
    "        df = pd.concat([df, row], axis=0)\n",
    "df = df.reset_index(drop=True)\n",
    "df = df.drop(columns=[\"index\"])\n",
    "df.to_csv(\"chatgpt_house_match_data.csv\", index=False)"
   ]
  },
  {
   "cell_type": "code",
   "execution_count": 75,
   "metadata": {},
   "outputs": [
    {
     "data": {
      "text/html": [
       "<div>\n",
       "<style scoped>\n",
       "    .dataframe tbody tr th:only-of-type {\n",
       "        vertical-align: middle;\n",
       "    }\n",
       "\n",
       "    .dataframe tbody tr th {\n",
       "        vertical-align: top;\n",
       "    }\n",
       "\n",
       "    .dataframe thead th {\n",
       "        text-align: right;\n",
       "    }\n",
       "</style>\n",
       "<table border=\"1\" class=\"dataframe\">\n",
       "  <thead>\n",
       "    <tr style=\"text-align: right;\">\n",
       "      <th></th>\n",
       "      <th>location</th>\n",
       "      <th>price</th>\n",
       "      <th>type_type</th>\n",
       "      <th>type_square</th>\n",
       "      <th>type_layout</th>\n",
       "      <th>type_layout_details</th>\n",
       "      <th>built_info_year</th>\n",
       "      <th>built_info_structure</th>\n",
       "      <th>live_info_nearest_supermarket</th>\n",
       "      <th>live_info_nearest_subway</th>\n",
       "    </tr>\n",
       "  </thead>\n",
       "  <tbody>\n",
       "    <tr>\n",
       "      <th>0</th>\n",
       "      <td>Tokyo, Shibuya</td>\n",
       "      <td>$800</td>\n",
       "      <td>apartment</td>\n",
       "      <td>50 sqm</td>\n",
       "      <td>1LDK</td>\n",
       "      <td>20 sqm living room</td>\n",
       "      <td>2005</td>\n",
       "      <td>concrete</td>\n",
       "      <td>10 minutes by walk</td>\n",
       "      <td>5 minutes by bus</td>\n",
       "    </tr>\n",
       "    <tr>\n",
       "      <th>1</th>\n",
       "      <td>Yokohama, Minato</td>\n",
       "      <td>$1000</td>\n",
       "      <td>condominium</td>\n",
       "      <td>80 sqm</td>\n",
       "      <td>2LDK</td>\n",
       "      <td>30 sqm living room</td>\n",
       "      <td>1998</td>\n",
       "      <td>steel</td>\n",
       "      <td>15 minutes by walk</td>\n",
       "      <td>10 minutes by bus</td>\n",
       "    </tr>\n",
       "    <tr>\n",
       "      <th>2</th>\n",
       "      <td>Chiba, Urayasu</td>\n",
       "      <td>$1200</td>\n",
       "      <td>house</td>\n",
       "      <td>120 sqm</td>\n",
       "      <td>3LDK</td>\n",
       "      <td>40 sqm living room</td>\n",
       "      <td>2010</td>\n",
       "      <td>wood</td>\n",
       "      <td>5 minutes by walk</td>\n",
       "      <td>20 minutes by bus</td>\n",
       "    </tr>\n",
       "    <tr>\n",
       "      <th>3</th>\n",
       "      <td>Tokyo, Shinjuku</td>\n",
       "      <td>$900</td>\n",
       "      <td>apartment</td>\n",
       "      <td>60 sqm</td>\n",
       "      <td>1DK</td>\n",
       "      <td>25 sqm living room</td>\n",
       "      <td>1990</td>\n",
       "      <td>concrete</td>\n",
       "      <td>20 minutes by walk</td>\n",
       "      <td>15 minutes by bus</td>\n",
       "    </tr>\n",
       "    <tr>\n",
       "      <th>4</th>\n",
       "      <td>Yokohama, Nishi</td>\n",
       "      <td>$1100</td>\n",
       "      <td>condominium</td>\n",
       "      <td>90 sqm</td>\n",
       "      <td>2LDK</td>\n",
       "      <td>35 sqm living room</td>\n",
       "      <td>2002</td>\n",
       "      <td>steel</td>\n",
       "      <td>10 minutes by walk</td>\n",
       "      <td>10 minutes by bus</td>\n",
       "    </tr>\n",
       "  </tbody>\n",
       "</table>\n",
       "</div>"
      ],
      "text/plain": [
       "           location  price    type_type type_square type_layout  \\\n",
       "0    Tokyo, Shibuya   $800    apartment      50 sqm        1LDK   \n",
       "1  Yokohama, Minato  $1000  condominium      80 sqm        2LDK   \n",
       "2    Chiba, Urayasu  $1200        house     120 sqm        3LDK   \n",
       "3   Tokyo, Shinjuku   $900    apartment      60 sqm         1DK   \n",
       "4   Yokohama, Nishi  $1100  condominium      90 sqm        2LDK   \n",
       "\n",
       "  type_layout_details  built_info_year built_info_structure  \\\n",
       "0  20 sqm living room             2005             concrete   \n",
       "1  30 sqm living room             1998                steel   \n",
       "2  40 sqm living room             2010                 wood   \n",
       "3  25 sqm living room             1990             concrete   \n",
       "4  35 sqm living room             2002                steel   \n",
       "\n",
       "  live_info_nearest_supermarket live_info_nearest_subway  \n",
       "0            10 minutes by walk         5 minutes by bus  \n",
       "1            15 minutes by walk        10 minutes by bus  \n",
       "2             5 minutes by walk        20 minutes by bus  \n",
       "3            20 minutes by walk        15 minutes by bus  \n",
       "4            10 minutes by walk        10 minutes by bus  "
      ]
     },
     "execution_count": 75,
     "metadata": {},
     "output_type": "execute_result"
    }
   ],
   "source": [
    "df.head()"
   ]
  },
  {
   "cell_type": "markdown",
   "metadata": {},
   "source": [
    "# 1.2 generate description pipeline"
   ]
  }
 ],
 "metadata": {
  "kernelspec": {
   "display_name": ".venv",
   "language": "python",
   "name": "python3"
  },
  "language_info": {
   "codemirror_mode": {
    "name": "ipython",
    "version": 3
   },
   "file_extension": ".py",
   "mimetype": "text/x-python",
   "name": "python",
   "nbconvert_exporter": "python",
   "pygments_lexer": "ipython3",
   "version": "3.10.13"
  }
 },
 "nbformat": 4,
 "nbformat_minor": 2
}
